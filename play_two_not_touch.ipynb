{
  "nbformat": 4,
  "nbformat_minor": 0,
  "metadata": {
    "colab": {
      "provenance": [],
      "authorship_tag": "ABX9TyPFdD6Ux80+/aZJRSJtSJDJ",
      "include_colab_link": true
    },
    "kernelspec": {
      "name": "python3",
      "display_name": "Python 3"
    },
    "language_info": {
      "name": "python"
    },
    "widgets": {
      "application/vnd.jupyter.widget-state+json": {
        "06251c547d81441096be7d475164348f": {
          "model_module": "@jupyter-widgets/controls",
          "model_name": "DropdownModel",
          "model_module_version": "1.5.0",
          "state": {
            "_dom_classes": [],
            "_model_module": "@jupyter-widgets/controls",
            "_model_module_version": "1.5.0",
            "_model_name": "DropdownModel",
            "_options_labels": [
              "Easy",
              "Medium",
              "Hard"
            ],
            "_view_count": null,
            "_view_module": "@jupyter-widgets/controls",
            "_view_module_version": "1.5.0",
            "_view_name": "DropdownView",
            "description": "Level:",
            "description_tooltip": null,
            "disabled": false,
            "index": 0,
            "layout": "IPY_MODEL_f35e0b7f33ce44b5a95e52bc1fbe1af5",
            "style": "IPY_MODEL_837896e59f4d47ca97e71777e2f6f261"
          }
        },
        "f35e0b7f33ce44b5a95e52bc1fbe1af5": {
          "model_module": "@jupyter-widgets/base",
          "model_name": "LayoutModel",
          "model_module_version": "1.2.0",
          "state": {
            "_model_module": "@jupyter-widgets/base",
            "_model_module_version": "1.2.0",
            "_model_name": "LayoutModel",
            "_view_count": null,
            "_view_module": "@jupyter-widgets/base",
            "_view_module_version": "1.2.0",
            "_view_name": "LayoutView",
            "align_content": null,
            "align_items": null,
            "align_self": null,
            "border": null,
            "bottom": null,
            "display": null,
            "flex": null,
            "flex_flow": null,
            "grid_area": null,
            "grid_auto_columns": null,
            "grid_auto_flow": null,
            "grid_auto_rows": null,
            "grid_column": null,
            "grid_gap": null,
            "grid_row": null,
            "grid_template_areas": null,
            "grid_template_columns": null,
            "grid_template_rows": null,
            "height": null,
            "justify_content": null,
            "justify_items": null,
            "left": null,
            "margin": null,
            "max_height": null,
            "max_width": null,
            "min_height": null,
            "min_width": null,
            "object_fit": null,
            "object_position": null,
            "order": null,
            "overflow": null,
            "overflow_x": null,
            "overflow_y": null,
            "padding": null,
            "right": null,
            "top": null,
            "visibility": null,
            "width": null
          }
        },
        "837896e59f4d47ca97e71777e2f6f261": {
          "model_module": "@jupyter-widgets/controls",
          "model_name": "DescriptionStyleModel",
          "model_module_version": "1.5.0",
          "state": {
            "_model_module": "@jupyter-widgets/controls",
            "_model_module_version": "1.5.0",
            "_model_name": "DescriptionStyleModel",
            "_view_count": null,
            "_view_module": "@jupyter-widgets/base",
            "_view_module_version": "1.2.0",
            "_view_name": "StyleView",
            "description_width": ""
          }
        },
        "427dcfd6035c4eccb4b2cd11e0691794": {
          "model_module": "@jupyter-widgets/controls",
          "model_name": "ButtonModel",
          "model_module_version": "1.5.0",
          "state": {
            "_dom_classes": [],
            "_model_module": "@jupyter-widgets/controls",
            "_model_module_version": "1.5.0",
            "_model_name": "ButtonModel",
            "_view_count": null,
            "_view_module": "@jupyter-widgets/controls",
            "_view_module_version": "1.5.0",
            "_view_name": "ButtonView",
            "button_style": "",
            "description": "New puzzle.",
            "disabled": false,
            "icon": "",
            "layout": "IPY_MODEL_5a6a0f1a804c47699cc67c378e21994e",
            "style": "IPY_MODEL_274e51a180324a62956aa1d5708d8fd7",
            "tooltip": ""
          }
        },
        "5a6a0f1a804c47699cc67c378e21994e": {
          "model_module": "@jupyter-widgets/base",
          "model_name": "LayoutModel",
          "model_module_version": "1.2.0",
          "state": {
            "_model_module": "@jupyter-widgets/base",
            "_model_module_version": "1.2.0",
            "_model_name": "LayoutModel",
            "_view_count": null,
            "_view_module": "@jupyter-widgets/base",
            "_view_module_version": "1.2.0",
            "_view_name": "LayoutView",
            "align_content": null,
            "align_items": null,
            "align_self": null,
            "border": null,
            "bottom": null,
            "display": null,
            "flex": null,
            "flex_flow": null,
            "grid_area": null,
            "grid_auto_columns": null,
            "grid_auto_flow": null,
            "grid_auto_rows": null,
            "grid_column": null,
            "grid_gap": null,
            "grid_row": null,
            "grid_template_areas": null,
            "grid_template_columns": null,
            "grid_template_rows": null,
            "height": "50px",
            "justify_content": null,
            "justify_items": null,
            "left": null,
            "margin": null,
            "max_height": null,
            "max_width": null,
            "min_height": null,
            "min_width": null,
            "object_fit": null,
            "object_position": null,
            "order": null,
            "overflow": null,
            "overflow_x": null,
            "overflow_y": null,
            "padding": null,
            "right": null,
            "top": null,
            "visibility": null,
            "width": "auto"
          }
        },
        "274e51a180324a62956aa1d5708d8fd7": {
          "model_module": "@jupyter-widgets/controls",
          "model_name": "ButtonStyleModel",
          "model_module_version": "1.5.0",
          "state": {
            "_model_module": "@jupyter-widgets/controls",
            "_model_module_version": "1.5.0",
            "_model_name": "ButtonStyleModel",
            "_view_count": null,
            "_view_module": "@jupyter-widgets/base",
            "_view_module_version": "1.2.0",
            "_view_name": "StyleView",
            "button_color": null,
            "font_weight": ""
          }
        },
        "a4d59c5ab1b8494291a7e44d84e11f4e": {
          "model_module": "@jupyter-widgets/controls",
          "model_name": "GridBoxModel",
          "model_module_version": "1.5.0",
          "state": {
            "_dom_classes": [],
            "_model_module": "@jupyter-widgets/controls",
            "_model_module_version": "1.5.0",
            "_model_name": "GridBoxModel",
            "_view_count": null,
            "_view_module": "@jupyter-widgets/controls",
            "_view_module_version": "1.5.0",
            "_view_name": "GridBoxView",
            "box_style": "",
            "children": [
              "IPY_MODEL_864de68f154e4748b67e9f6f2898a137",
              "IPY_MODEL_19a9949397544201bc12373266429f0f",
              "IPY_MODEL_be322f5d96794b6a956fe5a6d19d6095",
              "IPY_MODEL_6a3ee52cb0004bc2be17b4508efd5ca0",
              "IPY_MODEL_8e658d65071d4ebf94c9043e0564e943",
              "IPY_MODEL_a328ed83e737424196d7c524fc9a173b",
              "IPY_MODEL_f722e70141b14bb9889e3796b728e468",
              "IPY_MODEL_274a833450e147f5958ed56503f908c6",
              "IPY_MODEL_7361df5e20724c659bfd881f5f2c9cd0",
              "IPY_MODEL_144ad3f1589640758dcb857bf86b4677",
              "IPY_MODEL_1bacce85cba64a64978d5eccb24f45c9",
              "IPY_MODEL_a91cfa55e00646b79990c53dd47093a9",
              "IPY_MODEL_4de9e31d0eab498d892d17fadb230b8b",
              "IPY_MODEL_13c145c09d324fce9c02114e67cddac3",
              "IPY_MODEL_215d4cf42e334460a2bbda8c37a82a01",
              "IPY_MODEL_25fa5538f0a9485a83420269538339ca",
              "IPY_MODEL_839efe53ef6144ed8a525aabcd92c2f6",
              "IPY_MODEL_0ff4651df7e847429dc3f28bd3a477fe",
              "IPY_MODEL_e301b0eebf794d72aee1d28a0e3a7e47",
              "IPY_MODEL_6b0ebbf0fc674bcba1428576c1e12994",
              "IPY_MODEL_3f489ff9a61a41539a764f7e9c99883d",
              "IPY_MODEL_9d7ec16daa5a41deb4e9e7f8a53143d7",
              "IPY_MODEL_d4ab3e4b28c94c088f81a2d41eb8314e",
              "IPY_MODEL_421fc24ad6dc4fba9f8f5e7b4145621d",
              "IPY_MODEL_fed6c4bb4fce423992d31da28cccb40f",
              "IPY_MODEL_26310d363c05466e94db8c23fbe86673",
              "IPY_MODEL_4277d225225f46ebbc82d1a3947f9fd3",
              "IPY_MODEL_dbe4c41b39ad4d478040bfd63e3e01cb",
              "IPY_MODEL_99b02272cc984e83b3e7002019206455",
              "IPY_MODEL_c62604352b304de595fb49a1d1d566f8",
              "IPY_MODEL_0f2d7b336d234a86aa6d314756bdb12d",
              "IPY_MODEL_ec3a139aaa994af69827a1da578eb9ce",
              "IPY_MODEL_c7b9691b269448eda26801dfa5e27adb",
              "IPY_MODEL_edfe36402bc8438091deaa8de5b6a13f",
              "IPY_MODEL_dc760e356b724e76b2959b75a3789033",
              "IPY_MODEL_d644816c4e7e4b02b193c3a22f237e9c",
              "IPY_MODEL_d7f4a591470344f4a625ea342a593024",
              "IPY_MODEL_4b52123f157a4fc080020bbd42cb0642",
              "IPY_MODEL_6ad9b88fc9f24f529b3edfb1e13bdd22",
              "IPY_MODEL_5041cb3405fb458aa7f63acf9cea1277",
              "IPY_MODEL_93427ce7cff947c495435b798662cfb2",
              "IPY_MODEL_4a406d82a47f47109916dd518caa06bb",
              "IPY_MODEL_cbc83ab2ba254d6fa04f5e8f6f08d80c",
              "IPY_MODEL_c6fd7f0392304f47866225a89432f45e",
              "IPY_MODEL_f911ac427cb3494cb2e68739981c3c72",
              "IPY_MODEL_abcd088b47214871ad5ebaa895c5075a",
              "IPY_MODEL_f6808976ddc04605b1fd8c1a32911509",
              "IPY_MODEL_8cb35aafd8db421ea96b07a3bfd4a60e",
              "IPY_MODEL_639ed7f15d9b4f1bbbd0782ccf622ea0",
              "IPY_MODEL_8f8112574cdf4198800d9cf7fafa94b2",
              "IPY_MODEL_d8ab805d5cbf4b939255816664cb12f3",
              "IPY_MODEL_fe3f3afc440c4af5b289f04954543b40",
              "IPY_MODEL_8191a14b8e6d49eb9e977d4e9cf5cb05",
              "IPY_MODEL_f9c015bfdcf24751b0606d36c6547829",
              "IPY_MODEL_a3d480aa4e784ed2b24b2a2f96fdfa76",
              "IPY_MODEL_50f2054419b24cd9807e7470dc0997c4",
              "IPY_MODEL_85917d957271431cbdb19933d14b52c8",
              "IPY_MODEL_2d3ec92dd91043c18e554520e67f00da",
              "IPY_MODEL_c0d52470921b44c3ba2071386475f0f7",
              "IPY_MODEL_73b3f804300b4cddb5f7e3255db560c0",
              "IPY_MODEL_b81e837088d84a88a918a77603de6099",
              "IPY_MODEL_a886c43997f3434ea968cdbc0e6170fa",
              "IPY_MODEL_1859dfaba6a842cc9b8c4988f040fca8",
              "IPY_MODEL_3cdfbd96aa3b46ac9c010f8de7286a9c",
              "IPY_MODEL_92e206d9573247ad93eb05385ce01498",
              "IPY_MODEL_5b58136187c84909b8e996113f84c259",
              "IPY_MODEL_be246f6a0eda4d029fe45fb6536bdd0d",
              "IPY_MODEL_e2b81d29cdac4acc9bcdc6058b2288cd",
              "IPY_MODEL_6820df710bb84a828598ce380c738217",
              "IPY_MODEL_6c05165f074f436d8155c0d14cc8162f",
              "IPY_MODEL_0693479787b44738b089792f7612e780",
              "IPY_MODEL_8368fd4e24aa447c8c042e2a9344ae43",
              "IPY_MODEL_e00d88274c9b4678810b53770ec0033f",
              "IPY_MODEL_0c58a377c15242ceb6c3bfb9a6b9a14a",
              "IPY_MODEL_29199eed90fd4027982185345d33478d",
              "IPY_MODEL_4377159028aa4c12a7c3f1970071ba36",
              "IPY_MODEL_89fe8b92d84b4caf82c024a8f6a4b9f4",
              "IPY_MODEL_7ac14fb23b1c48adba3293b6410a02c0",
              "IPY_MODEL_6fa2d360fbe54d3abd900326497baa04",
              "IPY_MODEL_07a73a0476904cf9a691f2aa8089bccb",
              "IPY_MODEL_86b34e8fbfa74ed191b0618f99ab093f",
              "IPY_MODEL_63139d2ea0b849ae8b49af8427e1f762",
              "IPY_MODEL_11f13f0cc5274d759ba5c1f2d0d20863",
              "IPY_MODEL_2a6e5d6a6c9449e99fdf28c628c95755",
              "IPY_MODEL_5992da11c9d94a54a66defb601c21058",
              "IPY_MODEL_89a52e8a4c2548b1b182adb6e48dcd10",
              "IPY_MODEL_70412583555f49c58567954017f36799",
              "IPY_MODEL_38de81441ec04733a8f4beb96c667830",
              "IPY_MODEL_fe565c5f015247149a4c61473630f079",
              "IPY_MODEL_5a6faced926f44709629063ba4e09375",
              "IPY_MODEL_3dc4e371e91943d3a35daa5256e75a85",
              "IPY_MODEL_09f101e93b3a43f2a98964f03c32a184",
              "IPY_MODEL_4d086260e6b849a3af09957bdbf2df0b",
              "IPY_MODEL_8efa98ec61044ebfbf908864baa097f2",
              "IPY_MODEL_2f4863a6655d49f68586b3aab3dfbd3f",
              "IPY_MODEL_c2bea8b0708448e78f091a49e45d65a1",
              "IPY_MODEL_cfed8db3300e4d858a94dfaa4dac2b18",
              "IPY_MODEL_d6bc94e081e04f75855177c15d64693a",
              "IPY_MODEL_4817671092bc44aa8e9fec8cfcef8ed1",
              "IPY_MODEL_ee27dd14c3e64666b51b7390ec9c832f"
            ],
            "layout": "IPY_MODEL_042bab8bc938469aafeba721caff7fef"
          }
        },
        "864de68f154e4748b67e9f6f2898a137": {
          "model_module": "@jupyter-widgets/controls",
          "model_name": "ButtonModel",
          "model_module_version": "1.5.0",
          "state": {
            "_dom_classes": [],
            "_model_module": "@jupyter-widgets/controls",
            "_model_module_version": "1.5.0",
            "_model_name": "ButtonModel",
            "_view_count": null,
            "_view_module": "@jupyter-widgets/controls",
            "_view_module_version": "1.5.0",
            "_view_name": "ButtonView",
            "button_style": "",
            "description": "",
            "disabled": false,
            "icon": "",
            "layout": "IPY_MODEL_4f0c3fe13b594e669e4be7560ac32c80",
            "style": "IPY_MODEL_6b61f795dd104ebe8f8e6d6f6abf50ad",
            "tooltip": ""
          }
        },
        "19a9949397544201bc12373266429f0f": {
          "model_module": "@jupyter-widgets/controls",
          "model_name": "ButtonModel",
          "model_module_version": "1.5.0",
          "state": {
            "_dom_classes": [],
            "_model_module": "@jupyter-widgets/controls",
            "_model_module_version": "1.5.0",
            "_model_name": "ButtonModel",
            "_view_count": null,
            "_view_module": "@jupyter-widgets/controls",
            "_view_module_version": "1.5.0",
            "_view_name": "ButtonView",
            "button_style": "",
            "description": "",
            "disabled": false,
            "icon": "",
            "layout": "IPY_MODEL_4f0c3fe13b594e669e4be7560ac32c80",
            "style": "IPY_MODEL_8a2db3de0bd048628c20f8d08236ce7b",
            "tooltip": ""
          }
        },
        "be322f5d96794b6a956fe5a6d19d6095": {
          "model_module": "@jupyter-widgets/controls",
          "model_name": "ButtonModel",
          "model_module_version": "1.5.0",
          "state": {
            "_dom_classes": [],
            "_model_module": "@jupyter-widgets/controls",
            "_model_module_version": "1.5.0",
            "_model_name": "ButtonModel",
            "_view_count": null,
            "_view_module": "@jupyter-widgets/controls",
            "_view_module_version": "1.5.0",
            "_view_name": "ButtonView",
            "button_style": "",
            "description": "",
            "disabled": false,
            "icon": "",
            "layout": "IPY_MODEL_4f0c3fe13b594e669e4be7560ac32c80",
            "style": "IPY_MODEL_29e1117344e34697b57ba7d8415e3db0",
            "tooltip": ""
          }
        },
        "6a3ee52cb0004bc2be17b4508efd5ca0": {
          "model_module": "@jupyter-widgets/controls",
          "model_name": "ButtonModel",
          "model_module_version": "1.5.0",
          "state": {
            "_dom_classes": [],
            "_model_module": "@jupyter-widgets/controls",
            "_model_module_version": "1.5.0",
            "_model_name": "ButtonModel",
            "_view_count": null,
            "_view_module": "@jupyter-widgets/controls",
            "_view_module_version": "1.5.0",
            "_view_name": "ButtonView",
            "button_style": "",
            "description": "",
            "disabled": false,
            "icon": "",
            "layout": "IPY_MODEL_4f0c3fe13b594e669e4be7560ac32c80",
            "style": "IPY_MODEL_a78c1fd61c12403cb1320649681269ca",
            "tooltip": ""
          }
        },
        "8e658d65071d4ebf94c9043e0564e943": {
          "model_module": "@jupyter-widgets/controls",
          "model_name": "ButtonModel",
          "model_module_version": "1.5.0",
          "state": {
            "_dom_classes": [],
            "_model_module": "@jupyter-widgets/controls",
            "_model_module_version": "1.5.0",
            "_model_name": "ButtonModel",
            "_view_count": null,
            "_view_module": "@jupyter-widgets/controls",
            "_view_module_version": "1.5.0",
            "_view_name": "ButtonView",
            "button_style": "",
            "description": "",
            "disabled": false,
            "icon": "",
            "layout": "IPY_MODEL_4f0c3fe13b594e669e4be7560ac32c80",
            "style": "IPY_MODEL_807054b8fd5843b98d3df8fa4920497d",
            "tooltip": ""
          }
        },
        "a328ed83e737424196d7c524fc9a173b": {
          "model_module": "@jupyter-widgets/controls",
          "model_name": "ButtonModel",
          "model_module_version": "1.5.0",
          "state": {
            "_dom_classes": [],
            "_model_module": "@jupyter-widgets/controls",
            "_model_module_version": "1.5.0",
            "_model_name": "ButtonModel",
            "_view_count": null,
            "_view_module": "@jupyter-widgets/controls",
            "_view_module_version": "1.5.0",
            "_view_name": "ButtonView",
            "button_style": "",
            "description": "",
            "disabled": false,
            "icon": "",
            "layout": "IPY_MODEL_4f0c3fe13b594e669e4be7560ac32c80",
            "style": "IPY_MODEL_85fece99d66a4ccd9a494e5eceffc3f4",
            "tooltip": ""
          }
        },
        "f722e70141b14bb9889e3796b728e468": {
          "model_module": "@jupyter-widgets/controls",
          "model_name": "ButtonModel",
          "model_module_version": "1.5.0",
          "state": {
            "_dom_classes": [],
            "_model_module": "@jupyter-widgets/controls",
            "_model_module_version": "1.5.0",
            "_model_name": "ButtonModel",
            "_view_count": null,
            "_view_module": "@jupyter-widgets/controls",
            "_view_module_version": "1.5.0",
            "_view_name": "ButtonView",
            "button_style": "",
            "description": "",
            "disabled": false,
            "icon": "",
            "layout": "IPY_MODEL_4f0c3fe13b594e669e4be7560ac32c80",
            "style": "IPY_MODEL_2f667c29fbde47118c5fc005f5894241",
            "tooltip": ""
          }
        },
        "274a833450e147f5958ed56503f908c6": {
          "model_module": "@jupyter-widgets/controls",
          "model_name": "ButtonModel",
          "model_module_version": "1.5.0",
          "state": {
            "_dom_classes": [],
            "_model_module": "@jupyter-widgets/controls",
            "_model_module_version": "1.5.0",
            "_model_name": "ButtonModel",
            "_view_count": null,
            "_view_module": "@jupyter-widgets/controls",
            "_view_module_version": "1.5.0",
            "_view_name": "ButtonView",
            "button_style": "",
            "description": "",
            "disabled": false,
            "icon": "",
            "layout": "IPY_MODEL_4f0c3fe13b594e669e4be7560ac32c80",
            "style": "IPY_MODEL_159e654c50da432480f8d95f861123ce",
            "tooltip": ""
          }
        },
        "7361df5e20724c659bfd881f5f2c9cd0": {
          "model_module": "@jupyter-widgets/controls",
          "model_name": "ButtonModel",
          "model_module_version": "1.5.0",
          "state": {
            "_dom_classes": [],
            "_model_module": "@jupyter-widgets/controls",
            "_model_module_version": "1.5.0",
            "_model_name": "ButtonModel",
            "_view_count": null,
            "_view_module": "@jupyter-widgets/controls",
            "_view_module_version": "1.5.0",
            "_view_name": "ButtonView",
            "button_style": "",
            "description": "",
            "disabled": false,
            "icon": "",
            "layout": "IPY_MODEL_4f0c3fe13b594e669e4be7560ac32c80",
            "style": "IPY_MODEL_1fe4cd1452374f9a8cdf97b82cc2bc5c",
            "tooltip": ""
          }
        },
        "144ad3f1589640758dcb857bf86b4677": {
          "model_module": "@jupyter-widgets/controls",
          "model_name": "ButtonModel",
          "model_module_version": "1.5.0",
          "state": {
            "_dom_classes": [],
            "_model_module": "@jupyter-widgets/controls",
            "_model_module_version": "1.5.0",
            "_model_name": "ButtonModel",
            "_view_count": null,
            "_view_module": "@jupyter-widgets/controls",
            "_view_module_version": "1.5.0",
            "_view_name": "ButtonView",
            "button_style": "",
            "description": "",
            "disabled": false,
            "icon": "",
            "layout": "IPY_MODEL_4f0c3fe13b594e669e4be7560ac32c80",
            "style": "IPY_MODEL_fd16836d7f0e4620b52fae1af62112f2",
            "tooltip": ""
          }
        },
        "1bacce85cba64a64978d5eccb24f45c9": {
          "model_module": "@jupyter-widgets/controls",
          "model_name": "ButtonModel",
          "model_module_version": "1.5.0",
          "state": {
            "_dom_classes": [],
            "_model_module": "@jupyter-widgets/controls",
            "_model_module_version": "1.5.0",
            "_model_name": "ButtonModel",
            "_view_count": null,
            "_view_module": "@jupyter-widgets/controls",
            "_view_module_version": "1.5.0",
            "_view_name": "ButtonView",
            "button_style": "",
            "description": "",
            "disabled": false,
            "icon": "",
            "layout": "IPY_MODEL_4f0c3fe13b594e669e4be7560ac32c80",
            "style": "IPY_MODEL_3520f46212034acb865a9cb44c099273",
            "tooltip": ""
          }
        },
        "a91cfa55e00646b79990c53dd47093a9": {
          "model_module": "@jupyter-widgets/controls",
          "model_name": "ButtonModel",
          "model_module_version": "1.5.0",
          "state": {
            "_dom_classes": [],
            "_model_module": "@jupyter-widgets/controls",
            "_model_module_version": "1.5.0",
            "_model_name": "ButtonModel",
            "_view_count": null,
            "_view_module": "@jupyter-widgets/controls",
            "_view_module_version": "1.5.0",
            "_view_name": "ButtonView",
            "button_style": "",
            "description": "",
            "disabled": false,
            "icon": "",
            "layout": "IPY_MODEL_4f0c3fe13b594e669e4be7560ac32c80",
            "style": "IPY_MODEL_c747204eeefb4c1d9bbdede173775dbc",
            "tooltip": ""
          }
        },
        "4de9e31d0eab498d892d17fadb230b8b": {
          "model_module": "@jupyter-widgets/controls",
          "model_name": "ButtonModel",
          "model_module_version": "1.5.0",
          "state": {
            "_dom_classes": [],
            "_model_module": "@jupyter-widgets/controls",
            "_model_module_version": "1.5.0",
            "_model_name": "ButtonModel",
            "_view_count": null,
            "_view_module": "@jupyter-widgets/controls",
            "_view_module_version": "1.5.0",
            "_view_name": "ButtonView",
            "button_style": "",
            "description": "",
            "disabled": false,
            "icon": "",
            "layout": "IPY_MODEL_4f0c3fe13b594e669e4be7560ac32c80",
            "style": "IPY_MODEL_bc5aa781d4b14325be7ac109225ea91f",
            "tooltip": ""
          }
        },
        "13c145c09d324fce9c02114e67cddac3": {
          "model_module": "@jupyter-widgets/controls",
          "model_name": "ButtonModel",
          "model_module_version": "1.5.0",
          "state": {
            "_dom_classes": [],
            "_model_module": "@jupyter-widgets/controls",
            "_model_module_version": "1.5.0",
            "_model_name": "ButtonModel",
            "_view_count": null,
            "_view_module": "@jupyter-widgets/controls",
            "_view_module_version": "1.5.0",
            "_view_name": "ButtonView",
            "button_style": "",
            "description": "",
            "disabled": false,
            "icon": "",
            "layout": "IPY_MODEL_4f0c3fe13b594e669e4be7560ac32c80",
            "style": "IPY_MODEL_fd378c34d48647b0abdbc832f7a632ad",
            "tooltip": ""
          }
        },
        "215d4cf42e334460a2bbda8c37a82a01": {
          "model_module": "@jupyter-widgets/controls",
          "model_name": "ButtonModel",
          "model_module_version": "1.5.0",
          "state": {
            "_dom_classes": [],
            "_model_module": "@jupyter-widgets/controls",
            "_model_module_version": "1.5.0",
            "_model_name": "ButtonModel",
            "_view_count": null,
            "_view_module": "@jupyter-widgets/controls",
            "_view_module_version": "1.5.0",
            "_view_name": "ButtonView",
            "button_style": "",
            "description": "",
            "disabled": false,
            "icon": "",
            "layout": "IPY_MODEL_4f0c3fe13b594e669e4be7560ac32c80",
            "style": "IPY_MODEL_751caf4ffa7c4b5bbfa1bbf78174f7ba",
            "tooltip": ""
          }
        },
        "25fa5538f0a9485a83420269538339ca": {
          "model_module": "@jupyter-widgets/controls",
          "model_name": "ButtonModel",
          "model_module_version": "1.5.0",
          "state": {
            "_dom_classes": [],
            "_model_module": "@jupyter-widgets/controls",
            "_model_module_version": "1.5.0",
            "_model_name": "ButtonModel",
            "_view_count": null,
            "_view_module": "@jupyter-widgets/controls",
            "_view_module_version": "1.5.0",
            "_view_name": "ButtonView",
            "button_style": "",
            "description": "",
            "disabled": false,
            "icon": "",
            "layout": "IPY_MODEL_4f0c3fe13b594e669e4be7560ac32c80",
            "style": "IPY_MODEL_37575f71dd784e618592ac7449262d9d",
            "tooltip": ""
          }
        },
        "839efe53ef6144ed8a525aabcd92c2f6": {
          "model_module": "@jupyter-widgets/controls",
          "model_name": "ButtonModel",
          "model_module_version": "1.5.0",
          "state": {
            "_dom_classes": [],
            "_model_module": "@jupyter-widgets/controls",
            "_model_module_version": "1.5.0",
            "_model_name": "ButtonModel",
            "_view_count": null,
            "_view_module": "@jupyter-widgets/controls",
            "_view_module_version": "1.5.0",
            "_view_name": "ButtonView",
            "button_style": "",
            "description": "",
            "disabled": false,
            "icon": "",
            "layout": "IPY_MODEL_4f0c3fe13b594e669e4be7560ac32c80",
            "style": "IPY_MODEL_65b648e882f246d5a0e2136b40e194fa",
            "tooltip": ""
          }
        },
        "0ff4651df7e847429dc3f28bd3a477fe": {
          "model_module": "@jupyter-widgets/controls",
          "model_name": "ButtonModel",
          "model_module_version": "1.5.0",
          "state": {
            "_dom_classes": [],
            "_model_module": "@jupyter-widgets/controls",
            "_model_module_version": "1.5.0",
            "_model_name": "ButtonModel",
            "_view_count": null,
            "_view_module": "@jupyter-widgets/controls",
            "_view_module_version": "1.5.0",
            "_view_name": "ButtonView",
            "button_style": "",
            "description": "",
            "disabled": false,
            "icon": "",
            "layout": "IPY_MODEL_4f0c3fe13b594e669e4be7560ac32c80",
            "style": "IPY_MODEL_6c55ff6793d04ca4a65c10702f0d8989",
            "tooltip": ""
          }
        },
        "e301b0eebf794d72aee1d28a0e3a7e47": {
          "model_module": "@jupyter-widgets/controls",
          "model_name": "ButtonModel",
          "model_module_version": "1.5.0",
          "state": {
            "_dom_classes": [],
            "_model_module": "@jupyter-widgets/controls",
            "_model_module_version": "1.5.0",
            "_model_name": "ButtonModel",
            "_view_count": null,
            "_view_module": "@jupyter-widgets/controls",
            "_view_module_version": "1.5.0",
            "_view_name": "ButtonView",
            "button_style": "",
            "description": "",
            "disabled": false,
            "icon": "",
            "layout": "IPY_MODEL_4f0c3fe13b594e669e4be7560ac32c80",
            "style": "IPY_MODEL_a88aa795ca014a24beeb0b7c988f4982",
            "tooltip": ""
          }
        },
        "6b0ebbf0fc674bcba1428576c1e12994": {
          "model_module": "@jupyter-widgets/controls",
          "model_name": "ButtonModel",
          "model_module_version": "1.5.0",
          "state": {
            "_dom_classes": [],
            "_model_module": "@jupyter-widgets/controls",
            "_model_module_version": "1.5.0",
            "_model_name": "ButtonModel",
            "_view_count": null,
            "_view_module": "@jupyter-widgets/controls",
            "_view_module_version": "1.5.0",
            "_view_name": "ButtonView",
            "button_style": "",
            "description": "",
            "disabled": false,
            "icon": "",
            "layout": "IPY_MODEL_4f0c3fe13b594e669e4be7560ac32c80",
            "style": "IPY_MODEL_4ea3de7599e24417b9ca316c48a379a0",
            "tooltip": ""
          }
        },
        "3f489ff9a61a41539a764f7e9c99883d": {
          "model_module": "@jupyter-widgets/controls",
          "model_name": "ButtonModel",
          "model_module_version": "1.5.0",
          "state": {
            "_dom_classes": [],
            "_model_module": "@jupyter-widgets/controls",
            "_model_module_version": "1.5.0",
            "_model_name": "ButtonModel",
            "_view_count": null,
            "_view_module": "@jupyter-widgets/controls",
            "_view_module_version": "1.5.0",
            "_view_name": "ButtonView",
            "button_style": "",
            "description": "",
            "disabled": false,
            "icon": "",
            "layout": "IPY_MODEL_4f0c3fe13b594e669e4be7560ac32c80",
            "style": "IPY_MODEL_d77e54c913f54bd88677a2893c67513b",
            "tooltip": ""
          }
        },
        "9d7ec16daa5a41deb4e9e7f8a53143d7": {
          "model_module": "@jupyter-widgets/controls",
          "model_name": "ButtonModel",
          "model_module_version": "1.5.0",
          "state": {
            "_dom_classes": [],
            "_model_module": "@jupyter-widgets/controls",
            "_model_module_version": "1.5.0",
            "_model_name": "ButtonModel",
            "_view_count": null,
            "_view_module": "@jupyter-widgets/controls",
            "_view_module_version": "1.5.0",
            "_view_name": "ButtonView",
            "button_style": "",
            "description": "",
            "disabled": false,
            "icon": "",
            "layout": "IPY_MODEL_4f0c3fe13b594e669e4be7560ac32c80",
            "style": "IPY_MODEL_538afbcebbeb44f0a8ace40b10b9a4c8",
            "tooltip": ""
          }
        },
        "d4ab3e4b28c94c088f81a2d41eb8314e": {
          "model_module": "@jupyter-widgets/controls",
          "model_name": "ButtonModel",
          "model_module_version": "1.5.0",
          "state": {
            "_dom_classes": [],
            "_model_module": "@jupyter-widgets/controls",
            "_model_module_version": "1.5.0",
            "_model_name": "ButtonModel",
            "_view_count": null,
            "_view_module": "@jupyter-widgets/controls",
            "_view_module_version": "1.5.0",
            "_view_name": "ButtonView",
            "button_style": "",
            "description": "",
            "disabled": false,
            "icon": "",
            "layout": "IPY_MODEL_4f0c3fe13b594e669e4be7560ac32c80",
            "style": "IPY_MODEL_55fa270bf4bd4e2fa6d06e3ba0442be3",
            "tooltip": ""
          }
        },
        "421fc24ad6dc4fba9f8f5e7b4145621d": {
          "model_module": "@jupyter-widgets/controls",
          "model_name": "ButtonModel",
          "model_module_version": "1.5.0",
          "state": {
            "_dom_classes": [],
            "_model_module": "@jupyter-widgets/controls",
            "_model_module_version": "1.5.0",
            "_model_name": "ButtonModel",
            "_view_count": null,
            "_view_module": "@jupyter-widgets/controls",
            "_view_module_version": "1.5.0",
            "_view_name": "ButtonView",
            "button_style": "",
            "description": "",
            "disabled": false,
            "icon": "",
            "layout": "IPY_MODEL_4f0c3fe13b594e669e4be7560ac32c80",
            "style": "IPY_MODEL_90ce0e2f5c02494891d01055d84edbbc",
            "tooltip": ""
          }
        },
        "fed6c4bb4fce423992d31da28cccb40f": {
          "model_module": "@jupyter-widgets/controls",
          "model_name": "ButtonModel",
          "model_module_version": "1.5.0",
          "state": {
            "_dom_classes": [],
            "_model_module": "@jupyter-widgets/controls",
            "_model_module_version": "1.5.0",
            "_model_name": "ButtonModel",
            "_view_count": null,
            "_view_module": "@jupyter-widgets/controls",
            "_view_module_version": "1.5.0",
            "_view_name": "ButtonView",
            "button_style": "",
            "description": "",
            "disabled": false,
            "icon": "",
            "layout": "IPY_MODEL_4f0c3fe13b594e669e4be7560ac32c80",
            "style": "IPY_MODEL_2bd2b7f08aee40848f14a74c2b98ad45",
            "tooltip": ""
          }
        },
        "26310d363c05466e94db8c23fbe86673": {
          "model_module": "@jupyter-widgets/controls",
          "model_name": "ButtonModel",
          "model_module_version": "1.5.0",
          "state": {
            "_dom_classes": [],
            "_model_module": "@jupyter-widgets/controls",
            "_model_module_version": "1.5.0",
            "_model_name": "ButtonModel",
            "_view_count": null,
            "_view_module": "@jupyter-widgets/controls",
            "_view_module_version": "1.5.0",
            "_view_name": "ButtonView",
            "button_style": "",
            "description": "",
            "disabled": false,
            "icon": "",
            "layout": "IPY_MODEL_4f0c3fe13b594e669e4be7560ac32c80",
            "style": "IPY_MODEL_94d45905e6734a1fad83954bbd6b373a",
            "tooltip": ""
          }
        },
        "4277d225225f46ebbc82d1a3947f9fd3": {
          "model_module": "@jupyter-widgets/controls",
          "model_name": "ButtonModel",
          "model_module_version": "1.5.0",
          "state": {
            "_dom_classes": [],
            "_model_module": "@jupyter-widgets/controls",
            "_model_module_version": "1.5.0",
            "_model_name": "ButtonModel",
            "_view_count": null,
            "_view_module": "@jupyter-widgets/controls",
            "_view_module_version": "1.5.0",
            "_view_name": "ButtonView",
            "button_style": "",
            "description": "",
            "disabled": false,
            "icon": "",
            "layout": "IPY_MODEL_4f0c3fe13b594e669e4be7560ac32c80",
            "style": "IPY_MODEL_de915e192e9b47f29d7f28fb8ca99d86",
            "tooltip": ""
          }
        },
        "dbe4c41b39ad4d478040bfd63e3e01cb": {
          "model_module": "@jupyter-widgets/controls",
          "model_name": "ButtonModel",
          "model_module_version": "1.5.0",
          "state": {
            "_dom_classes": [],
            "_model_module": "@jupyter-widgets/controls",
            "_model_module_version": "1.5.0",
            "_model_name": "ButtonModel",
            "_view_count": null,
            "_view_module": "@jupyter-widgets/controls",
            "_view_module_version": "1.5.0",
            "_view_name": "ButtonView",
            "button_style": "",
            "description": "",
            "disabled": false,
            "icon": "",
            "layout": "IPY_MODEL_4f0c3fe13b594e669e4be7560ac32c80",
            "style": "IPY_MODEL_013e564d5c824835bfb2047cf62aa6a0",
            "tooltip": ""
          }
        },
        "99b02272cc984e83b3e7002019206455": {
          "model_module": "@jupyter-widgets/controls",
          "model_name": "ButtonModel",
          "model_module_version": "1.5.0",
          "state": {
            "_dom_classes": [],
            "_model_module": "@jupyter-widgets/controls",
            "_model_module_version": "1.5.0",
            "_model_name": "ButtonModel",
            "_view_count": null,
            "_view_module": "@jupyter-widgets/controls",
            "_view_module_version": "1.5.0",
            "_view_name": "ButtonView",
            "button_style": "",
            "description": "",
            "disabled": false,
            "icon": "",
            "layout": "IPY_MODEL_4f0c3fe13b594e669e4be7560ac32c80",
            "style": "IPY_MODEL_923c38be87af49ee95680cadaee90529",
            "tooltip": ""
          }
        },
        "c62604352b304de595fb49a1d1d566f8": {
          "model_module": "@jupyter-widgets/controls",
          "model_name": "ButtonModel",
          "model_module_version": "1.5.0",
          "state": {
            "_dom_classes": [],
            "_model_module": "@jupyter-widgets/controls",
            "_model_module_version": "1.5.0",
            "_model_name": "ButtonModel",
            "_view_count": null,
            "_view_module": "@jupyter-widgets/controls",
            "_view_module_version": "1.5.0",
            "_view_name": "ButtonView",
            "button_style": "",
            "description": "",
            "disabled": false,
            "icon": "",
            "layout": "IPY_MODEL_4f0c3fe13b594e669e4be7560ac32c80",
            "style": "IPY_MODEL_2d95d0baa90b401da6963992dde62979",
            "tooltip": ""
          }
        },
        "0f2d7b336d234a86aa6d314756bdb12d": {
          "model_module": "@jupyter-widgets/controls",
          "model_name": "ButtonModel",
          "model_module_version": "1.5.0",
          "state": {
            "_dom_classes": [],
            "_model_module": "@jupyter-widgets/controls",
            "_model_module_version": "1.5.0",
            "_model_name": "ButtonModel",
            "_view_count": null,
            "_view_module": "@jupyter-widgets/controls",
            "_view_module_version": "1.5.0",
            "_view_name": "ButtonView",
            "button_style": "",
            "description": "",
            "disabled": false,
            "icon": "",
            "layout": "IPY_MODEL_4f0c3fe13b594e669e4be7560ac32c80",
            "style": "IPY_MODEL_6b3cb66a8369455288524cb5f68b0aaf",
            "tooltip": ""
          }
        },
        "ec3a139aaa994af69827a1da578eb9ce": {
          "model_module": "@jupyter-widgets/controls",
          "model_name": "ButtonModel",
          "model_module_version": "1.5.0",
          "state": {
            "_dom_classes": [],
            "_model_module": "@jupyter-widgets/controls",
            "_model_module_version": "1.5.0",
            "_model_name": "ButtonModel",
            "_view_count": null,
            "_view_module": "@jupyter-widgets/controls",
            "_view_module_version": "1.5.0",
            "_view_name": "ButtonView",
            "button_style": "",
            "description": "",
            "disabled": false,
            "icon": "",
            "layout": "IPY_MODEL_4f0c3fe13b594e669e4be7560ac32c80",
            "style": "IPY_MODEL_af9e4d25eee140c1a13b5270201c77bb",
            "tooltip": ""
          }
        },
        "c7b9691b269448eda26801dfa5e27adb": {
          "model_module": "@jupyter-widgets/controls",
          "model_name": "ButtonModel",
          "model_module_version": "1.5.0",
          "state": {
            "_dom_classes": [],
            "_model_module": "@jupyter-widgets/controls",
            "_model_module_version": "1.5.0",
            "_model_name": "ButtonModel",
            "_view_count": null,
            "_view_module": "@jupyter-widgets/controls",
            "_view_module_version": "1.5.0",
            "_view_name": "ButtonView",
            "button_style": "",
            "description": "",
            "disabled": false,
            "icon": "",
            "layout": "IPY_MODEL_4f0c3fe13b594e669e4be7560ac32c80",
            "style": "IPY_MODEL_674b12f1b0ef4b5da03b0113814573c9",
            "tooltip": ""
          }
        },
        "edfe36402bc8438091deaa8de5b6a13f": {
          "model_module": "@jupyter-widgets/controls",
          "model_name": "ButtonModel",
          "model_module_version": "1.5.0",
          "state": {
            "_dom_classes": [],
            "_model_module": "@jupyter-widgets/controls",
            "_model_module_version": "1.5.0",
            "_model_name": "ButtonModel",
            "_view_count": null,
            "_view_module": "@jupyter-widgets/controls",
            "_view_module_version": "1.5.0",
            "_view_name": "ButtonView",
            "button_style": "",
            "description": "",
            "disabled": false,
            "icon": "",
            "layout": "IPY_MODEL_4f0c3fe13b594e669e4be7560ac32c80",
            "style": "IPY_MODEL_2e52e607fdf149d59a617e72e30c6e56",
            "tooltip": ""
          }
        },
        "dc760e356b724e76b2959b75a3789033": {
          "model_module": "@jupyter-widgets/controls",
          "model_name": "ButtonModel",
          "model_module_version": "1.5.0",
          "state": {
            "_dom_classes": [],
            "_model_module": "@jupyter-widgets/controls",
            "_model_module_version": "1.5.0",
            "_model_name": "ButtonModel",
            "_view_count": null,
            "_view_module": "@jupyter-widgets/controls",
            "_view_module_version": "1.5.0",
            "_view_name": "ButtonView",
            "button_style": "",
            "description": "",
            "disabled": false,
            "icon": "",
            "layout": "IPY_MODEL_4f0c3fe13b594e669e4be7560ac32c80",
            "style": "IPY_MODEL_a3e182bda4f541e2820843a48a76e620",
            "tooltip": ""
          }
        },
        "d644816c4e7e4b02b193c3a22f237e9c": {
          "model_module": "@jupyter-widgets/controls",
          "model_name": "ButtonModel",
          "model_module_version": "1.5.0",
          "state": {
            "_dom_classes": [],
            "_model_module": "@jupyter-widgets/controls",
            "_model_module_version": "1.5.0",
            "_model_name": "ButtonModel",
            "_view_count": null,
            "_view_module": "@jupyter-widgets/controls",
            "_view_module_version": "1.5.0",
            "_view_name": "ButtonView",
            "button_style": "",
            "description": "",
            "disabled": false,
            "icon": "",
            "layout": "IPY_MODEL_4f0c3fe13b594e669e4be7560ac32c80",
            "style": "IPY_MODEL_7736749de3454d39a02a8f55b7b96545",
            "tooltip": ""
          }
        },
        "d7f4a591470344f4a625ea342a593024": {
          "model_module": "@jupyter-widgets/controls",
          "model_name": "ButtonModel",
          "model_module_version": "1.5.0",
          "state": {
            "_dom_classes": [],
            "_model_module": "@jupyter-widgets/controls",
            "_model_module_version": "1.5.0",
            "_model_name": "ButtonModel",
            "_view_count": null,
            "_view_module": "@jupyter-widgets/controls",
            "_view_module_version": "1.5.0",
            "_view_name": "ButtonView",
            "button_style": "",
            "description": "",
            "disabled": false,
            "icon": "",
            "layout": "IPY_MODEL_4f0c3fe13b594e669e4be7560ac32c80",
            "style": "IPY_MODEL_1c5ae68dd50442c88390ab5276aae9b9",
            "tooltip": ""
          }
        },
        "4b52123f157a4fc080020bbd42cb0642": {
          "model_module": "@jupyter-widgets/controls",
          "model_name": "ButtonModel",
          "model_module_version": "1.5.0",
          "state": {
            "_dom_classes": [],
            "_model_module": "@jupyter-widgets/controls",
            "_model_module_version": "1.5.0",
            "_model_name": "ButtonModel",
            "_view_count": null,
            "_view_module": "@jupyter-widgets/controls",
            "_view_module_version": "1.5.0",
            "_view_name": "ButtonView",
            "button_style": "",
            "description": "",
            "disabled": false,
            "icon": "",
            "layout": "IPY_MODEL_4f0c3fe13b594e669e4be7560ac32c80",
            "style": "IPY_MODEL_cccc8f52c58648ce98403aeb27f7a53f",
            "tooltip": ""
          }
        },
        "6ad9b88fc9f24f529b3edfb1e13bdd22": {
          "model_module": "@jupyter-widgets/controls",
          "model_name": "ButtonModel",
          "model_module_version": "1.5.0",
          "state": {
            "_dom_classes": [],
            "_model_module": "@jupyter-widgets/controls",
            "_model_module_version": "1.5.0",
            "_model_name": "ButtonModel",
            "_view_count": null,
            "_view_module": "@jupyter-widgets/controls",
            "_view_module_version": "1.5.0",
            "_view_name": "ButtonView",
            "button_style": "",
            "description": "",
            "disabled": false,
            "icon": "",
            "layout": "IPY_MODEL_4f0c3fe13b594e669e4be7560ac32c80",
            "style": "IPY_MODEL_5907bc03482f42c28ae5a4ecc8dc0790",
            "tooltip": ""
          }
        },
        "5041cb3405fb458aa7f63acf9cea1277": {
          "model_module": "@jupyter-widgets/controls",
          "model_name": "ButtonModel",
          "model_module_version": "1.5.0",
          "state": {
            "_dom_classes": [],
            "_model_module": "@jupyter-widgets/controls",
            "_model_module_version": "1.5.0",
            "_model_name": "ButtonModel",
            "_view_count": null,
            "_view_module": "@jupyter-widgets/controls",
            "_view_module_version": "1.5.0",
            "_view_name": "ButtonView",
            "button_style": "",
            "description": "",
            "disabled": false,
            "icon": "",
            "layout": "IPY_MODEL_4f0c3fe13b594e669e4be7560ac32c80",
            "style": "IPY_MODEL_5e54d58dbe804c98a352bd3dc7724970",
            "tooltip": ""
          }
        },
        "93427ce7cff947c495435b798662cfb2": {
          "model_module": "@jupyter-widgets/controls",
          "model_name": "ButtonModel",
          "model_module_version": "1.5.0",
          "state": {
            "_dom_classes": [],
            "_model_module": "@jupyter-widgets/controls",
            "_model_module_version": "1.5.0",
            "_model_name": "ButtonModel",
            "_view_count": null,
            "_view_module": "@jupyter-widgets/controls",
            "_view_module_version": "1.5.0",
            "_view_name": "ButtonView",
            "button_style": "",
            "description": "",
            "disabled": false,
            "icon": "",
            "layout": "IPY_MODEL_4f0c3fe13b594e669e4be7560ac32c80",
            "style": "IPY_MODEL_de3a573741984318beb740034e41c2e1",
            "tooltip": ""
          }
        },
        "4a406d82a47f47109916dd518caa06bb": {
          "model_module": "@jupyter-widgets/controls",
          "model_name": "ButtonModel",
          "model_module_version": "1.5.0",
          "state": {
            "_dom_classes": [],
            "_model_module": "@jupyter-widgets/controls",
            "_model_module_version": "1.5.0",
            "_model_name": "ButtonModel",
            "_view_count": null,
            "_view_module": "@jupyter-widgets/controls",
            "_view_module_version": "1.5.0",
            "_view_name": "ButtonView",
            "button_style": "",
            "description": "",
            "disabled": false,
            "icon": "",
            "layout": "IPY_MODEL_4f0c3fe13b594e669e4be7560ac32c80",
            "style": "IPY_MODEL_6e961b5f16324f50a8c94ae13b5f11c2",
            "tooltip": ""
          }
        },
        "cbc83ab2ba254d6fa04f5e8f6f08d80c": {
          "model_module": "@jupyter-widgets/controls",
          "model_name": "ButtonModel",
          "model_module_version": "1.5.0",
          "state": {
            "_dom_classes": [],
            "_model_module": "@jupyter-widgets/controls",
            "_model_module_version": "1.5.0",
            "_model_name": "ButtonModel",
            "_view_count": null,
            "_view_module": "@jupyter-widgets/controls",
            "_view_module_version": "1.5.0",
            "_view_name": "ButtonView",
            "button_style": "",
            "description": "",
            "disabled": false,
            "icon": "",
            "layout": "IPY_MODEL_4f0c3fe13b594e669e4be7560ac32c80",
            "style": "IPY_MODEL_42fa4f39be6f4cca9f9a84676c312b45",
            "tooltip": ""
          }
        },
        "c6fd7f0392304f47866225a89432f45e": {
          "model_module": "@jupyter-widgets/controls",
          "model_name": "ButtonModel",
          "model_module_version": "1.5.0",
          "state": {
            "_dom_classes": [],
            "_model_module": "@jupyter-widgets/controls",
            "_model_module_version": "1.5.0",
            "_model_name": "ButtonModel",
            "_view_count": null,
            "_view_module": "@jupyter-widgets/controls",
            "_view_module_version": "1.5.0",
            "_view_name": "ButtonView",
            "button_style": "",
            "description": "",
            "disabled": false,
            "icon": "",
            "layout": "IPY_MODEL_4f0c3fe13b594e669e4be7560ac32c80",
            "style": "IPY_MODEL_6cf5ac18a8514bb79038c96249bf8c79",
            "tooltip": ""
          }
        },
        "f911ac427cb3494cb2e68739981c3c72": {
          "model_module": "@jupyter-widgets/controls",
          "model_name": "ButtonModel",
          "model_module_version": "1.5.0",
          "state": {
            "_dom_classes": [],
            "_model_module": "@jupyter-widgets/controls",
            "_model_module_version": "1.5.0",
            "_model_name": "ButtonModel",
            "_view_count": null,
            "_view_module": "@jupyter-widgets/controls",
            "_view_module_version": "1.5.0",
            "_view_name": "ButtonView",
            "button_style": "",
            "description": "",
            "disabled": false,
            "icon": "",
            "layout": "IPY_MODEL_4f0c3fe13b594e669e4be7560ac32c80",
            "style": "IPY_MODEL_a5626f60c10d478395875e2a224fd573",
            "tooltip": ""
          }
        },
        "abcd088b47214871ad5ebaa895c5075a": {
          "model_module": "@jupyter-widgets/controls",
          "model_name": "ButtonModel",
          "model_module_version": "1.5.0",
          "state": {
            "_dom_classes": [],
            "_model_module": "@jupyter-widgets/controls",
            "_model_module_version": "1.5.0",
            "_model_name": "ButtonModel",
            "_view_count": null,
            "_view_module": "@jupyter-widgets/controls",
            "_view_module_version": "1.5.0",
            "_view_name": "ButtonView",
            "button_style": "",
            "description": "",
            "disabled": false,
            "icon": "",
            "layout": "IPY_MODEL_4f0c3fe13b594e669e4be7560ac32c80",
            "style": "IPY_MODEL_3a863912324448e98af145d516b627c4",
            "tooltip": ""
          }
        },
        "f6808976ddc04605b1fd8c1a32911509": {
          "model_module": "@jupyter-widgets/controls",
          "model_name": "ButtonModel",
          "model_module_version": "1.5.0",
          "state": {
            "_dom_classes": [],
            "_model_module": "@jupyter-widgets/controls",
            "_model_module_version": "1.5.0",
            "_model_name": "ButtonModel",
            "_view_count": null,
            "_view_module": "@jupyter-widgets/controls",
            "_view_module_version": "1.5.0",
            "_view_name": "ButtonView",
            "button_style": "",
            "description": "",
            "disabled": false,
            "icon": "",
            "layout": "IPY_MODEL_4f0c3fe13b594e669e4be7560ac32c80",
            "style": "IPY_MODEL_cf8dd8efcfe04576a2dd03ee9e6b598c",
            "tooltip": ""
          }
        },
        "8cb35aafd8db421ea96b07a3bfd4a60e": {
          "model_module": "@jupyter-widgets/controls",
          "model_name": "ButtonModel",
          "model_module_version": "1.5.0",
          "state": {
            "_dom_classes": [],
            "_model_module": "@jupyter-widgets/controls",
            "_model_module_version": "1.5.0",
            "_model_name": "ButtonModel",
            "_view_count": null,
            "_view_module": "@jupyter-widgets/controls",
            "_view_module_version": "1.5.0",
            "_view_name": "ButtonView",
            "button_style": "",
            "description": "",
            "disabled": false,
            "icon": "",
            "layout": "IPY_MODEL_4f0c3fe13b594e669e4be7560ac32c80",
            "style": "IPY_MODEL_7d318c9a5f2d47acb49e8de233f53e18",
            "tooltip": ""
          }
        },
        "639ed7f15d9b4f1bbbd0782ccf622ea0": {
          "model_module": "@jupyter-widgets/controls",
          "model_name": "ButtonModel",
          "model_module_version": "1.5.0",
          "state": {
            "_dom_classes": [],
            "_model_module": "@jupyter-widgets/controls",
            "_model_module_version": "1.5.0",
            "_model_name": "ButtonModel",
            "_view_count": null,
            "_view_module": "@jupyter-widgets/controls",
            "_view_module_version": "1.5.0",
            "_view_name": "ButtonView",
            "button_style": "",
            "description": "",
            "disabled": false,
            "icon": "",
            "layout": "IPY_MODEL_4f0c3fe13b594e669e4be7560ac32c80",
            "style": "IPY_MODEL_5e4386b85f6b4e9fa4ef34d549c71ca8",
            "tooltip": ""
          }
        },
        "8f8112574cdf4198800d9cf7fafa94b2": {
          "model_module": "@jupyter-widgets/controls",
          "model_name": "ButtonModel",
          "model_module_version": "1.5.0",
          "state": {
            "_dom_classes": [],
            "_model_module": "@jupyter-widgets/controls",
            "_model_module_version": "1.5.0",
            "_model_name": "ButtonModel",
            "_view_count": null,
            "_view_module": "@jupyter-widgets/controls",
            "_view_module_version": "1.5.0",
            "_view_name": "ButtonView",
            "button_style": "",
            "description": "",
            "disabled": false,
            "icon": "",
            "layout": "IPY_MODEL_4f0c3fe13b594e669e4be7560ac32c80",
            "style": "IPY_MODEL_c991c32a68684ea79a11645bb4bcb5c5",
            "tooltip": ""
          }
        },
        "d8ab805d5cbf4b939255816664cb12f3": {
          "model_module": "@jupyter-widgets/controls",
          "model_name": "ButtonModel",
          "model_module_version": "1.5.0",
          "state": {
            "_dom_classes": [],
            "_model_module": "@jupyter-widgets/controls",
            "_model_module_version": "1.5.0",
            "_model_name": "ButtonModel",
            "_view_count": null,
            "_view_module": "@jupyter-widgets/controls",
            "_view_module_version": "1.5.0",
            "_view_name": "ButtonView",
            "button_style": "",
            "description": "",
            "disabled": false,
            "icon": "",
            "layout": "IPY_MODEL_4f0c3fe13b594e669e4be7560ac32c80",
            "style": "IPY_MODEL_706aaf78853c499385bc7f48a66a0a5d",
            "tooltip": ""
          }
        },
        "fe3f3afc440c4af5b289f04954543b40": {
          "model_module": "@jupyter-widgets/controls",
          "model_name": "ButtonModel",
          "model_module_version": "1.5.0",
          "state": {
            "_dom_classes": [],
            "_model_module": "@jupyter-widgets/controls",
            "_model_module_version": "1.5.0",
            "_model_name": "ButtonModel",
            "_view_count": null,
            "_view_module": "@jupyter-widgets/controls",
            "_view_module_version": "1.5.0",
            "_view_name": "ButtonView",
            "button_style": "",
            "description": "",
            "disabled": false,
            "icon": "",
            "layout": "IPY_MODEL_4f0c3fe13b594e669e4be7560ac32c80",
            "style": "IPY_MODEL_c8d4930defb843f29f972fa8e2470567",
            "tooltip": ""
          }
        },
        "8191a14b8e6d49eb9e977d4e9cf5cb05": {
          "model_module": "@jupyter-widgets/controls",
          "model_name": "ButtonModel",
          "model_module_version": "1.5.0",
          "state": {
            "_dom_classes": [],
            "_model_module": "@jupyter-widgets/controls",
            "_model_module_version": "1.5.0",
            "_model_name": "ButtonModel",
            "_view_count": null,
            "_view_module": "@jupyter-widgets/controls",
            "_view_module_version": "1.5.0",
            "_view_name": "ButtonView",
            "button_style": "",
            "description": "",
            "disabled": false,
            "icon": "",
            "layout": "IPY_MODEL_4f0c3fe13b594e669e4be7560ac32c80",
            "style": "IPY_MODEL_978090fb391e48b5a480e8b26e17fdcc",
            "tooltip": ""
          }
        },
        "f9c015bfdcf24751b0606d36c6547829": {
          "model_module": "@jupyter-widgets/controls",
          "model_name": "ButtonModel",
          "model_module_version": "1.5.0",
          "state": {
            "_dom_classes": [],
            "_model_module": "@jupyter-widgets/controls",
            "_model_module_version": "1.5.0",
            "_model_name": "ButtonModel",
            "_view_count": null,
            "_view_module": "@jupyter-widgets/controls",
            "_view_module_version": "1.5.0",
            "_view_name": "ButtonView",
            "button_style": "",
            "description": "",
            "disabled": false,
            "icon": "",
            "layout": "IPY_MODEL_4f0c3fe13b594e669e4be7560ac32c80",
            "style": "IPY_MODEL_75a613429e9b425aaff22cbcf900c806",
            "tooltip": ""
          }
        },
        "a3d480aa4e784ed2b24b2a2f96fdfa76": {
          "model_module": "@jupyter-widgets/controls",
          "model_name": "ButtonModel",
          "model_module_version": "1.5.0",
          "state": {
            "_dom_classes": [],
            "_model_module": "@jupyter-widgets/controls",
            "_model_module_version": "1.5.0",
            "_model_name": "ButtonModel",
            "_view_count": null,
            "_view_module": "@jupyter-widgets/controls",
            "_view_module_version": "1.5.0",
            "_view_name": "ButtonView",
            "button_style": "",
            "description": "",
            "disabled": false,
            "icon": "",
            "layout": "IPY_MODEL_4f0c3fe13b594e669e4be7560ac32c80",
            "style": "IPY_MODEL_a9e0ae31682c438d90ec4c2ca2bffd7d",
            "tooltip": ""
          }
        },
        "50f2054419b24cd9807e7470dc0997c4": {
          "model_module": "@jupyter-widgets/controls",
          "model_name": "ButtonModel",
          "model_module_version": "1.5.0",
          "state": {
            "_dom_classes": [],
            "_model_module": "@jupyter-widgets/controls",
            "_model_module_version": "1.5.0",
            "_model_name": "ButtonModel",
            "_view_count": null,
            "_view_module": "@jupyter-widgets/controls",
            "_view_module_version": "1.5.0",
            "_view_name": "ButtonView",
            "button_style": "",
            "description": "",
            "disabled": false,
            "icon": "",
            "layout": "IPY_MODEL_4f0c3fe13b594e669e4be7560ac32c80",
            "style": "IPY_MODEL_b5cc81e0df5b4b53bfc93d2e3368aa73",
            "tooltip": ""
          }
        },
        "85917d957271431cbdb19933d14b52c8": {
          "model_module": "@jupyter-widgets/controls",
          "model_name": "ButtonModel",
          "model_module_version": "1.5.0",
          "state": {
            "_dom_classes": [],
            "_model_module": "@jupyter-widgets/controls",
            "_model_module_version": "1.5.0",
            "_model_name": "ButtonModel",
            "_view_count": null,
            "_view_module": "@jupyter-widgets/controls",
            "_view_module_version": "1.5.0",
            "_view_name": "ButtonView",
            "button_style": "",
            "description": "",
            "disabled": false,
            "icon": "",
            "layout": "IPY_MODEL_4f0c3fe13b594e669e4be7560ac32c80",
            "style": "IPY_MODEL_a291ee8d51224f5e883c5957dfe41c6c",
            "tooltip": ""
          }
        },
        "2d3ec92dd91043c18e554520e67f00da": {
          "model_module": "@jupyter-widgets/controls",
          "model_name": "ButtonModel",
          "model_module_version": "1.5.0",
          "state": {
            "_dom_classes": [],
            "_model_module": "@jupyter-widgets/controls",
            "_model_module_version": "1.5.0",
            "_model_name": "ButtonModel",
            "_view_count": null,
            "_view_module": "@jupyter-widgets/controls",
            "_view_module_version": "1.5.0",
            "_view_name": "ButtonView",
            "button_style": "",
            "description": "",
            "disabled": false,
            "icon": "",
            "layout": "IPY_MODEL_4f0c3fe13b594e669e4be7560ac32c80",
            "style": "IPY_MODEL_3525d1e09d6744b6a89135b5165e1c43",
            "tooltip": ""
          }
        },
        "c0d52470921b44c3ba2071386475f0f7": {
          "model_module": "@jupyter-widgets/controls",
          "model_name": "ButtonModel",
          "model_module_version": "1.5.0",
          "state": {
            "_dom_classes": [],
            "_model_module": "@jupyter-widgets/controls",
            "_model_module_version": "1.5.0",
            "_model_name": "ButtonModel",
            "_view_count": null,
            "_view_module": "@jupyter-widgets/controls",
            "_view_module_version": "1.5.0",
            "_view_name": "ButtonView",
            "button_style": "",
            "description": "",
            "disabled": false,
            "icon": "",
            "layout": "IPY_MODEL_4f0c3fe13b594e669e4be7560ac32c80",
            "style": "IPY_MODEL_6114180faef34febb40edf0d50c9b75b",
            "tooltip": ""
          }
        },
        "73b3f804300b4cddb5f7e3255db560c0": {
          "model_module": "@jupyter-widgets/controls",
          "model_name": "ButtonModel",
          "model_module_version": "1.5.0",
          "state": {
            "_dom_classes": [],
            "_model_module": "@jupyter-widgets/controls",
            "_model_module_version": "1.5.0",
            "_model_name": "ButtonModel",
            "_view_count": null,
            "_view_module": "@jupyter-widgets/controls",
            "_view_module_version": "1.5.0",
            "_view_name": "ButtonView",
            "button_style": "",
            "description": "",
            "disabled": false,
            "icon": "",
            "layout": "IPY_MODEL_4f0c3fe13b594e669e4be7560ac32c80",
            "style": "IPY_MODEL_f6d15c14f6d447f4a847f6c1d3c69e91",
            "tooltip": ""
          }
        },
        "b81e837088d84a88a918a77603de6099": {
          "model_module": "@jupyter-widgets/controls",
          "model_name": "ButtonModel",
          "model_module_version": "1.5.0",
          "state": {
            "_dom_classes": [],
            "_model_module": "@jupyter-widgets/controls",
            "_model_module_version": "1.5.0",
            "_model_name": "ButtonModel",
            "_view_count": null,
            "_view_module": "@jupyter-widgets/controls",
            "_view_module_version": "1.5.0",
            "_view_name": "ButtonView",
            "button_style": "",
            "description": "",
            "disabled": false,
            "icon": "",
            "layout": "IPY_MODEL_4f0c3fe13b594e669e4be7560ac32c80",
            "style": "IPY_MODEL_47f4a6fd47204a279af38b6f0ebdedf2",
            "tooltip": ""
          }
        },
        "a886c43997f3434ea968cdbc0e6170fa": {
          "model_module": "@jupyter-widgets/controls",
          "model_name": "ButtonModel",
          "model_module_version": "1.5.0",
          "state": {
            "_dom_classes": [],
            "_model_module": "@jupyter-widgets/controls",
            "_model_module_version": "1.5.0",
            "_model_name": "ButtonModel",
            "_view_count": null,
            "_view_module": "@jupyter-widgets/controls",
            "_view_module_version": "1.5.0",
            "_view_name": "ButtonView",
            "button_style": "",
            "description": "",
            "disabled": false,
            "icon": "",
            "layout": "IPY_MODEL_4f0c3fe13b594e669e4be7560ac32c80",
            "style": "IPY_MODEL_6b1f789e2af845db868dbccce64c5e53",
            "tooltip": ""
          }
        },
        "1859dfaba6a842cc9b8c4988f040fca8": {
          "model_module": "@jupyter-widgets/controls",
          "model_name": "ButtonModel",
          "model_module_version": "1.5.0",
          "state": {
            "_dom_classes": [],
            "_model_module": "@jupyter-widgets/controls",
            "_model_module_version": "1.5.0",
            "_model_name": "ButtonModel",
            "_view_count": null,
            "_view_module": "@jupyter-widgets/controls",
            "_view_module_version": "1.5.0",
            "_view_name": "ButtonView",
            "button_style": "",
            "description": "",
            "disabled": false,
            "icon": "",
            "layout": "IPY_MODEL_4f0c3fe13b594e669e4be7560ac32c80",
            "style": "IPY_MODEL_f29f95e7df2148e2adbce70103e53b94",
            "tooltip": ""
          }
        },
        "3cdfbd96aa3b46ac9c010f8de7286a9c": {
          "model_module": "@jupyter-widgets/controls",
          "model_name": "ButtonModel",
          "model_module_version": "1.5.0",
          "state": {
            "_dom_classes": [],
            "_model_module": "@jupyter-widgets/controls",
            "_model_module_version": "1.5.0",
            "_model_name": "ButtonModel",
            "_view_count": null,
            "_view_module": "@jupyter-widgets/controls",
            "_view_module_version": "1.5.0",
            "_view_name": "ButtonView",
            "button_style": "",
            "description": "",
            "disabled": false,
            "icon": "",
            "layout": "IPY_MODEL_4f0c3fe13b594e669e4be7560ac32c80",
            "style": "IPY_MODEL_7a195965777f49f5812ae6e07748a321",
            "tooltip": ""
          }
        },
        "92e206d9573247ad93eb05385ce01498": {
          "model_module": "@jupyter-widgets/controls",
          "model_name": "ButtonModel",
          "model_module_version": "1.5.0",
          "state": {
            "_dom_classes": [],
            "_model_module": "@jupyter-widgets/controls",
            "_model_module_version": "1.5.0",
            "_model_name": "ButtonModel",
            "_view_count": null,
            "_view_module": "@jupyter-widgets/controls",
            "_view_module_version": "1.5.0",
            "_view_name": "ButtonView",
            "button_style": "",
            "description": "",
            "disabled": false,
            "icon": "",
            "layout": "IPY_MODEL_4f0c3fe13b594e669e4be7560ac32c80",
            "style": "IPY_MODEL_4c9dc2ea07064eef9e739beede0da0d5",
            "tooltip": ""
          }
        },
        "5b58136187c84909b8e996113f84c259": {
          "model_module": "@jupyter-widgets/controls",
          "model_name": "ButtonModel",
          "model_module_version": "1.5.0",
          "state": {
            "_dom_classes": [],
            "_model_module": "@jupyter-widgets/controls",
            "_model_module_version": "1.5.0",
            "_model_name": "ButtonModel",
            "_view_count": null,
            "_view_module": "@jupyter-widgets/controls",
            "_view_module_version": "1.5.0",
            "_view_name": "ButtonView",
            "button_style": "",
            "description": "",
            "disabled": false,
            "icon": "",
            "layout": "IPY_MODEL_4f0c3fe13b594e669e4be7560ac32c80",
            "style": "IPY_MODEL_196072731af342b6beb90cd2e3ebbc5e",
            "tooltip": ""
          }
        },
        "be246f6a0eda4d029fe45fb6536bdd0d": {
          "model_module": "@jupyter-widgets/controls",
          "model_name": "ButtonModel",
          "model_module_version": "1.5.0",
          "state": {
            "_dom_classes": [],
            "_model_module": "@jupyter-widgets/controls",
            "_model_module_version": "1.5.0",
            "_model_name": "ButtonModel",
            "_view_count": null,
            "_view_module": "@jupyter-widgets/controls",
            "_view_module_version": "1.5.0",
            "_view_name": "ButtonView",
            "button_style": "",
            "description": "",
            "disabled": false,
            "icon": "",
            "layout": "IPY_MODEL_4f0c3fe13b594e669e4be7560ac32c80",
            "style": "IPY_MODEL_c42bdab318e74e0aa1da7eda70df5c76",
            "tooltip": ""
          }
        },
        "e2b81d29cdac4acc9bcdc6058b2288cd": {
          "model_module": "@jupyter-widgets/controls",
          "model_name": "ButtonModel",
          "model_module_version": "1.5.0",
          "state": {
            "_dom_classes": [],
            "_model_module": "@jupyter-widgets/controls",
            "_model_module_version": "1.5.0",
            "_model_name": "ButtonModel",
            "_view_count": null,
            "_view_module": "@jupyter-widgets/controls",
            "_view_module_version": "1.5.0",
            "_view_name": "ButtonView",
            "button_style": "",
            "description": "",
            "disabled": false,
            "icon": "",
            "layout": "IPY_MODEL_4f0c3fe13b594e669e4be7560ac32c80",
            "style": "IPY_MODEL_a069fb84607d47d39bce0f3cc0d0bfb5",
            "tooltip": ""
          }
        },
        "6820df710bb84a828598ce380c738217": {
          "model_module": "@jupyter-widgets/controls",
          "model_name": "ButtonModel",
          "model_module_version": "1.5.0",
          "state": {
            "_dom_classes": [],
            "_model_module": "@jupyter-widgets/controls",
            "_model_module_version": "1.5.0",
            "_model_name": "ButtonModel",
            "_view_count": null,
            "_view_module": "@jupyter-widgets/controls",
            "_view_module_version": "1.5.0",
            "_view_name": "ButtonView",
            "button_style": "",
            "description": "",
            "disabled": false,
            "icon": "",
            "layout": "IPY_MODEL_4f0c3fe13b594e669e4be7560ac32c80",
            "style": "IPY_MODEL_716d45430ed7426d85711961c52e90b0",
            "tooltip": ""
          }
        },
        "6c05165f074f436d8155c0d14cc8162f": {
          "model_module": "@jupyter-widgets/controls",
          "model_name": "ButtonModel",
          "model_module_version": "1.5.0",
          "state": {
            "_dom_classes": [],
            "_model_module": "@jupyter-widgets/controls",
            "_model_module_version": "1.5.0",
            "_model_name": "ButtonModel",
            "_view_count": null,
            "_view_module": "@jupyter-widgets/controls",
            "_view_module_version": "1.5.0",
            "_view_name": "ButtonView",
            "button_style": "",
            "description": "",
            "disabled": false,
            "icon": "",
            "layout": "IPY_MODEL_4f0c3fe13b594e669e4be7560ac32c80",
            "style": "IPY_MODEL_c19a8c2f83b641519e8c1891982b0faf",
            "tooltip": ""
          }
        },
        "0693479787b44738b089792f7612e780": {
          "model_module": "@jupyter-widgets/controls",
          "model_name": "ButtonModel",
          "model_module_version": "1.5.0",
          "state": {
            "_dom_classes": [],
            "_model_module": "@jupyter-widgets/controls",
            "_model_module_version": "1.5.0",
            "_model_name": "ButtonModel",
            "_view_count": null,
            "_view_module": "@jupyter-widgets/controls",
            "_view_module_version": "1.5.0",
            "_view_name": "ButtonView",
            "button_style": "",
            "description": "",
            "disabled": false,
            "icon": "",
            "layout": "IPY_MODEL_4f0c3fe13b594e669e4be7560ac32c80",
            "style": "IPY_MODEL_d0abca28f72647a09e9869d96386a75f",
            "tooltip": ""
          }
        },
        "8368fd4e24aa447c8c042e2a9344ae43": {
          "model_module": "@jupyter-widgets/controls",
          "model_name": "ButtonModel",
          "model_module_version": "1.5.0",
          "state": {
            "_dom_classes": [],
            "_model_module": "@jupyter-widgets/controls",
            "_model_module_version": "1.5.0",
            "_model_name": "ButtonModel",
            "_view_count": null,
            "_view_module": "@jupyter-widgets/controls",
            "_view_module_version": "1.5.0",
            "_view_name": "ButtonView",
            "button_style": "",
            "description": "",
            "disabled": false,
            "icon": "",
            "layout": "IPY_MODEL_4f0c3fe13b594e669e4be7560ac32c80",
            "style": "IPY_MODEL_8c68dff131a8493c8bdbc93c0db6a4a7",
            "tooltip": ""
          }
        },
        "e00d88274c9b4678810b53770ec0033f": {
          "model_module": "@jupyter-widgets/controls",
          "model_name": "ButtonModel",
          "model_module_version": "1.5.0",
          "state": {
            "_dom_classes": [],
            "_model_module": "@jupyter-widgets/controls",
            "_model_module_version": "1.5.0",
            "_model_name": "ButtonModel",
            "_view_count": null,
            "_view_module": "@jupyter-widgets/controls",
            "_view_module_version": "1.5.0",
            "_view_name": "ButtonView",
            "button_style": "",
            "description": "",
            "disabled": false,
            "icon": "",
            "layout": "IPY_MODEL_4f0c3fe13b594e669e4be7560ac32c80",
            "style": "IPY_MODEL_3834fe5e5eea4c20a00ddecc2054cf46",
            "tooltip": ""
          }
        },
        "0c58a377c15242ceb6c3bfb9a6b9a14a": {
          "model_module": "@jupyter-widgets/controls",
          "model_name": "ButtonModel",
          "model_module_version": "1.5.0",
          "state": {
            "_dom_classes": [],
            "_model_module": "@jupyter-widgets/controls",
            "_model_module_version": "1.5.0",
            "_model_name": "ButtonModel",
            "_view_count": null,
            "_view_module": "@jupyter-widgets/controls",
            "_view_module_version": "1.5.0",
            "_view_name": "ButtonView",
            "button_style": "",
            "description": "",
            "disabled": false,
            "icon": "",
            "layout": "IPY_MODEL_4f0c3fe13b594e669e4be7560ac32c80",
            "style": "IPY_MODEL_116d10016dc94150a1a4ce942475c68a",
            "tooltip": ""
          }
        },
        "29199eed90fd4027982185345d33478d": {
          "model_module": "@jupyter-widgets/controls",
          "model_name": "ButtonModel",
          "model_module_version": "1.5.0",
          "state": {
            "_dom_classes": [],
            "_model_module": "@jupyter-widgets/controls",
            "_model_module_version": "1.5.0",
            "_model_name": "ButtonModel",
            "_view_count": null,
            "_view_module": "@jupyter-widgets/controls",
            "_view_module_version": "1.5.0",
            "_view_name": "ButtonView",
            "button_style": "",
            "description": "",
            "disabled": false,
            "icon": "",
            "layout": "IPY_MODEL_4f0c3fe13b594e669e4be7560ac32c80",
            "style": "IPY_MODEL_f92f71203a4942948390ff193445ba3a",
            "tooltip": ""
          }
        },
        "4377159028aa4c12a7c3f1970071ba36": {
          "model_module": "@jupyter-widgets/controls",
          "model_name": "ButtonModel",
          "model_module_version": "1.5.0",
          "state": {
            "_dom_classes": [],
            "_model_module": "@jupyter-widgets/controls",
            "_model_module_version": "1.5.0",
            "_model_name": "ButtonModel",
            "_view_count": null,
            "_view_module": "@jupyter-widgets/controls",
            "_view_module_version": "1.5.0",
            "_view_name": "ButtonView",
            "button_style": "",
            "description": "",
            "disabled": false,
            "icon": "",
            "layout": "IPY_MODEL_4f0c3fe13b594e669e4be7560ac32c80",
            "style": "IPY_MODEL_c7c63e877ba841cd993060caba7dcf90",
            "tooltip": ""
          }
        },
        "89fe8b92d84b4caf82c024a8f6a4b9f4": {
          "model_module": "@jupyter-widgets/controls",
          "model_name": "ButtonModel",
          "model_module_version": "1.5.0",
          "state": {
            "_dom_classes": [],
            "_model_module": "@jupyter-widgets/controls",
            "_model_module_version": "1.5.0",
            "_model_name": "ButtonModel",
            "_view_count": null,
            "_view_module": "@jupyter-widgets/controls",
            "_view_module_version": "1.5.0",
            "_view_name": "ButtonView",
            "button_style": "",
            "description": "",
            "disabled": false,
            "icon": "",
            "layout": "IPY_MODEL_4f0c3fe13b594e669e4be7560ac32c80",
            "style": "IPY_MODEL_70eaacb1c6714f06acea8ea2775a5f7d",
            "tooltip": ""
          }
        },
        "7ac14fb23b1c48adba3293b6410a02c0": {
          "model_module": "@jupyter-widgets/controls",
          "model_name": "ButtonModel",
          "model_module_version": "1.5.0",
          "state": {
            "_dom_classes": [],
            "_model_module": "@jupyter-widgets/controls",
            "_model_module_version": "1.5.0",
            "_model_name": "ButtonModel",
            "_view_count": null,
            "_view_module": "@jupyter-widgets/controls",
            "_view_module_version": "1.5.0",
            "_view_name": "ButtonView",
            "button_style": "",
            "description": "",
            "disabled": false,
            "icon": "",
            "layout": "IPY_MODEL_4f0c3fe13b594e669e4be7560ac32c80",
            "style": "IPY_MODEL_ff270ab702974912bcfc02edee89e4db",
            "tooltip": ""
          }
        },
        "6fa2d360fbe54d3abd900326497baa04": {
          "model_module": "@jupyter-widgets/controls",
          "model_name": "ButtonModel",
          "model_module_version": "1.5.0",
          "state": {
            "_dom_classes": [],
            "_model_module": "@jupyter-widgets/controls",
            "_model_module_version": "1.5.0",
            "_model_name": "ButtonModel",
            "_view_count": null,
            "_view_module": "@jupyter-widgets/controls",
            "_view_module_version": "1.5.0",
            "_view_name": "ButtonView",
            "button_style": "",
            "description": "",
            "disabled": false,
            "icon": "",
            "layout": "IPY_MODEL_4f0c3fe13b594e669e4be7560ac32c80",
            "style": "IPY_MODEL_35abff344cd84ba79b65b4f9def0c6ef",
            "tooltip": ""
          }
        },
        "07a73a0476904cf9a691f2aa8089bccb": {
          "model_module": "@jupyter-widgets/controls",
          "model_name": "ButtonModel",
          "model_module_version": "1.5.0",
          "state": {
            "_dom_classes": [],
            "_model_module": "@jupyter-widgets/controls",
            "_model_module_version": "1.5.0",
            "_model_name": "ButtonModel",
            "_view_count": null,
            "_view_module": "@jupyter-widgets/controls",
            "_view_module_version": "1.5.0",
            "_view_name": "ButtonView",
            "button_style": "",
            "description": "",
            "disabled": false,
            "icon": "",
            "layout": "IPY_MODEL_4f0c3fe13b594e669e4be7560ac32c80",
            "style": "IPY_MODEL_f2f8dcdfee2246419357fb741fc8eb79",
            "tooltip": ""
          }
        },
        "86b34e8fbfa74ed191b0618f99ab093f": {
          "model_module": "@jupyter-widgets/controls",
          "model_name": "ButtonModel",
          "model_module_version": "1.5.0",
          "state": {
            "_dom_classes": [],
            "_model_module": "@jupyter-widgets/controls",
            "_model_module_version": "1.5.0",
            "_model_name": "ButtonModel",
            "_view_count": null,
            "_view_module": "@jupyter-widgets/controls",
            "_view_module_version": "1.5.0",
            "_view_name": "ButtonView",
            "button_style": "",
            "description": "",
            "disabled": false,
            "icon": "",
            "layout": "IPY_MODEL_4f0c3fe13b594e669e4be7560ac32c80",
            "style": "IPY_MODEL_83c85dc6aade40458de597f5c1c1b7f7",
            "tooltip": ""
          }
        },
        "63139d2ea0b849ae8b49af8427e1f762": {
          "model_module": "@jupyter-widgets/controls",
          "model_name": "ButtonModel",
          "model_module_version": "1.5.0",
          "state": {
            "_dom_classes": [],
            "_model_module": "@jupyter-widgets/controls",
            "_model_module_version": "1.5.0",
            "_model_name": "ButtonModel",
            "_view_count": null,
            "_view_module": "@jupyter-widgets/controls",
            "_view_module_version": "1.5.0",
            "_view_name": "ButtonView",
            "button_style": "",
            "description": "",
            "disabled": false,
            "icon": "",
            "layout": "IPY_MODEL_4f0c3fe13b594e669e4be7560ac32c80",
            "style": "IPY_MODEL_5d2d7a128d124f41a4041ec2a1a3383c",
            "tooltip": ""
          }
        },
        "11f13f0cc5274d759ba5c1f2d0d20863": {
          "model_module": "@jupyter-widgets/controls",
          "model_name": "ButtonModel",
          "model_module_version": "1.5.0",
          "state": {
            "_dom_classes": [],
            "_model_module": "@jupyter-widgets/controls",
            "_model_module_version": "1.5.0",
            "_model_name": "ButtonModel",
            "_view_count": null,
            "_view_module": "@jupyter-widgets/controls",
            "_view_module_version": "1.5.0",
            "_view_name": "ButtonView",
            "button_style": "",
            "description": "",
            "disabled": false,
            "icon": "",
            "layout": "IPY_MODEL_4f0c3fe13b594e669e4be7560ac32c80",
            "style": "IPY_MODEL_db4c01c29bf746d7b2ad48603388eb8d",
            "tooltip": ""
          }
        },
        "2a6e5d6a6c9449e99fdf28c628c95755": {
          "model_module": "@jupyter-widgets/controls",
          "model_name": "ButtonModel",
          "model_module_version": "1.5.0",
          "state": {
            "_dom_classes": [],
            "_model_module": "@jupyter-widgets/controls",
            "_model_module_version": "1.5.0",
            "_model_name": "ButtonModel",
            "_view_count": null,
            "_view_module": "@jupyter-widgets/controls",
            "_view_module_version": "1.5.0",
            "_view_name": "ButtonView",
            "button_style": "",
            "description": "",
            "disabled": false,
            "icon": "",
            "layout": "IPY_MODEL_4f0c3fe13b594e669e4be7560ac32c80",
            "style": "IPY_MODEL_7eacfb7490bf4bc4a319ba826696371a",
            "tooltip": ""
          }
        },
        "5992da11c9d94a54a66defb601c21058": {
          "model_module": "@jupyter-widgets/controls",
          "model_name": "ButtonModel",
          "model_module_version": "1.5.0",
          "state": {
            "_dom_classes": [],
            "_model_module": "@jupyter-widgets/controls",
            "_model_module_version": "1.5.0",
            "_model_name": "ButtonModel",
            "_view_count": null,
            "_view_module": "@jupyter-widgets/controls",
            "_view_module_version": "1.5.0",
            "_view_name": "ButtonView",
            "button_style": "",
            "description": "",
            "disabled": false,
            "icon": "",
            "layout": "IPY_MODEL_4f0c3fe13b594e669e4be7560ac32c80",
            "style": "IPY_MODEL_db14b1c2cb0a45308dfa43372309995d",
            "tooltip": ""
          }
        },
        "89a52e8a4c2548b1b182adb6e48dcd10": {
          "model_module": "@jupyter-widgets/controls",
          "model_name": "ButtonModel",
          "model_module_version": "1.5.0",
          "state": {
            "_dom_classes": [],
            "_model_module": "@jupyter-widgets/controls",
            "_model_module_version": "1.5.0",
            "_model_name": "ButtonModel",
            "_view_count": null,
            "_view_module": "@jupyter-widgets/controls",
            "_view_module_version": "1.5.0",
            "_view_name": "ButtonView",
            "button_style": "",
            "description": "",
            "disabled": false,
            "icon": "",
            "layout": "IPY_MODEL_4f0c3fe13b594e669e4be7560ac32c80",
            "style": "IPY_MODEL_18d7cf3fb87e43b4959c3ad00a617ae9",
            "tooltip": ""
          }
        },
        "70412583555f49c58567954017f36799": {
          "model_module": "@jupyter-widgets/controls",
          "model_name": "ButtonModel",
          "model_module_version": "1.5.0",
          "state": {
            "_dom_classes": [],
            "_model_module": "@jupyter-widgets/controls",
            "_model_module_version": "1.5.0",
            "_model_name": "ButtonModel",
            "_view_count": null,
            "_view_module": "@jupyter-widgets/controls",
            "_view_module_version": "1.5.0",
            "_view_name": "ButtonView",
            "button_style": "",
            "description": "",
            "disabled": false,
            "icon": "",
            "layout": "IPY_MODEL_4f0c3fe13b594e669e4be7560ac32c80",
            "style": "IPY_MODEL_2031d747aab1418ca8ef57db21c48aea",
            "tooltip": ""
          }
        },
        "38de81441ec04733a8f4beb96c667830": {
          "model_module": "@jupyter-widgets/controls",
          "model_name": "ButtonModel",
          "model_module_version": "1.5.0",
          "state": {
            "_dom_classes": [],
            "_model_module": "@jupyter-widgets/controls",
            "_model_module_version": "1.5.0",
            "_model_name": "ButtonModel",
            "_view_count": null,
            "_view_module": "@jupyter-widgets/controls",
            "_view_module_version": "1.5.0",
            "_view_name": "ButtonView",
            "button_style": "",
            "description": "",
            "disabled": false,
            "icon": "",
            "layout": "IPY_MODEL_4f0c3fe13b594e669e4be7560ac32c80",
            "style": "IPY_MODEL_c7dcc59affda4013a4a357a30da7f9a2",
            "tooltip": ""
          }
        },
        "fe565c5f015247149a4c61473630f079": {
          "model_module": "@jupyter-widgets/controls",
          "model_name": "ButtonModel",
          "model_module_version": "1.5.0",
          "state": {
            "_dom_classes": [],
            "_model_module": "@jupyter-widgets/controls",
            "_model_module_version": "1.5.0",
            "_model_name": "ButtonModel",
            "_view_count": null,
            "_view_module": "@jupyter-widgets/controls",
            "_view_module_version": "1.5.0",
            "_view_name": "ButtonView",
            "button_style": "",
            "description": "",
            "disabled": false,
            "icon": "",
            "layout": "IPY_MODEL_4f0c3fe13b594e669e4be7560ac32c80",
            "style": "IPY_MODEL_ed33468cc10b4c07a380d5c758c86025",
            "tooltip": ""
          }
        },
        "5a6faced926f44709629063ba4e09375": {
          "model_module": "@jupyter-widgets/controls",
          "model_name": "ButtonModel",
          "model_module_version": "1.5.0",
          "state": {
            "_dom_classes": [],
            "_model_module": "@jupyter-widgets/controls",
            "_model_module_version": "1.5.0",
            "_model_name": "ButtonModel",
            "_view_count": null,
            "_view_module": "@jupyter-widgets/controls",
            "_view_module_version": "1.5.0",
            "_view_name": "ButtonView",
            "button_style": "",
            "description": "",
            "disabled": false,
            "icon": "",
            "layout": "IPY_MODEL_4f0c3fe13b594e669e4be7560ac32c80",
            "style": "IPY_MODEL_2b6750063a724e19a6986cc5deebc3b8",
            "tooltip": ""
          }
        },
        "3dc4e371e91943d3a35daa5256e75a85": {
          "model_module": "@jupyter-widgets/controls",
          "model_name": "ButtonModel",
          "model_module_version": "1.5.0",
          "state": {
            "_dom_classes": [],
            "_model_module": "@jupyter-widgets/controls",
            "_model_module_version": "1.5.0",
            "_model_name": "ButtonModel",
            "_view_count": null,
            "_view_module": "@jupyter-widgets/controls",
            "_view_module_version": "1.5.0",
            "_view_name": "ButtonView",
            "button_style": "",
            "description": "",
            "disabled": false,
            "icon": "",
            "layout": "IPY_MODEL_4f0c3fe13b594e669e4be7560ac32c80",
            "style": "IPY_MODEL_fdf734189c37469ea7d64d2fa20945f1",
            "tooltip": ""
          }
        },
        "09f101e93b3a43f2a98964f03c32a184": {
          "model_module": "@jupyter-widgets/controls",
          "model_name": "ButtonModel",
          "model_module_version": "1.5.0",
          "state": {
            "_dom_classes": [],
            "_model_module": "@jupyter-widgets/controls",
            "_model_module_version": "1.5.0",
            "_model_name": "ButtonModel",
            "_view_count": null,
            "_view_module": "@jupyter-widgets/controls",
            "_view_module_version": "1.5.0",
            "_view_name": "ButtonView",
            "button_style": "",
            "description": "",
            "disabled": false,
            "icon": "",
            "layout": "IPY_MODEL_4f0c3fe13b594e669e4be7560ac32c80",
            "style": "IPY_MODEL_4c00c1f6beac46d88016a0b7462f2534",
            "tooltip": ""
          }
        },
        "4d086260e6b849a3af09957bdbf2df0b": {
          "model_module": "@jupyter-widgets/controls",
          "model_name": "ButtonModel",
          "model_module_version": "1.5.0",
          "state": {
            "_dom_classes": [],
            "_model_module": "@jupyter-widgets/controls",
            "_model_module_version": "1.5.0",
            "_model_name": "ButtonModel",
            "_view_count": null,
            "_view_module": "@jupyter-widgets/controls",
            "_view_module_version": "1.5.0",
            "_view_name": "ButtonView",
            "button_style": "",
            "description": "",
            "disabled": false,
            "icon": "",
            "layout": "IPY_MODEL_4f0c3fe13b594e669e4be7560ac32c80",
            "style": "IPY_MODEL_d462138e0f4c4e42a01dbc5396c0d251",
            "tooltip": ""
          }
        },
        "8efa98ec61044ebfbf908864baa097f2": {
          "model_module": "@jupyter-widgets/controls",
          "model_name": "ButtonModel",
          "model_module_version": "1.5.0",
          "state": {
            "_dom_classes": [],
            "_model_module": "@jupyter-widgets/controls",
            "_model_module_version": "1.5.0",
            "_model_name": "ButtonModel",
            "_view_count": null,
            "_view_module": "@jupyter-widgets/controls",
            "_view_module_version": "1.5.0",
            "_view_name": "ButtonView",
            "button_style": "",
            "description": "",
            "disabled": false,
            "icon": "",
            "layout": "IPY_MODEL_4f0c3fe13b594e669e4be7560ac32c80",
            "style": "IPY_MODEL_889dc5be1d514460b4db14961aff4a4a",
            "tooltip": ""
          }
        },
        "2f4863a6655d49f68586b3aab3dfbd3f": {
          "model_module": "@jupyter-widgets/controls",
          "model_name": "ButtonModel",
          "model_module_version": "1.5.0",
          "state": {
            "_dom_classes": [],
            "_model_module": "@jupyter-widgets/controls",
            "_model_module_version": "1.5.0",
            "_model_name": "ButtonModel",
            "_view_count": null,
            "_view_module": "@jupyter-widgets/controls",
            "_view_module_version": "1.5.0",
            "_view_name": "ButtonView",
            "button_style": "",
            "description": "",
            "disabled": false,
            "icon": "",
            "layout": "IPY_MODEL_4f0c3fe13b594e669e4be7560ac32c80",
            "style": "IPY_MODEL_6a13622a322c404d9ba0b9515714f62d",
            "tooltip": ""
          }
        },
        "c2bea8b0708448e78f091a49e45d65a1": {
          "model_module": "@jupyter-widgets/controls",
          "model_name": "ButtonModel",
          "model_module_version": "1.5.0",
          "state": {
            "_dom_classes": [],
            "_model_module": "@jupyter-widgets/controls",
            "_model_module_version": "1.5.0",
            "_model_name": "ButtonModel",
            "_view_count": null,
            "_view_module": "@jupyter-widgets/controls",
            "_view_module_version": "1.5.0",
            "_view_name": "ButtonView",
            "button_style": "",
            "description": "",
            "disabled": false,
            "icon": "",
            "layout": "IPY_MODEL_4f0c3fe13b594e669e4be7560ac32c80",
            "style": "IPY_MODEL_767de842e9ae4b438d384ad62daa1add",
            "tooltip": ""
          }
        },
        "cfed8db3300e4d858a94dfaa4dac2b18": {
          "model_module": "@jupyter-widgets/controls",
          "model_name": "ButtonModel",
          "model_module_version": "1.5.0",
          "state": {
            "_dom_classes": [],
            "_model_module": "@jupyter-widgets/controls",
            "_model_module_version": "1.5.0",
            "_model_name": "ButtonModel",
            "_view_count": null,
            "_view_module": "@jupyter-widgets/controls",
            "_view_module_version": "1.5.0",
            "_view_name": "ButtonView",
            "button_style": "",
            "description": "",
            "disabled": false,
            "icon": "",
            "layout": "IPY_MODEL_4f0c3fe13b594e669e4be7560ac32c80",
            "style": "IPY_MODEL_296ff3e8689e40c1a595ac5db12ad0de",
            "tooltip": ""
          }
        },
        "d6bc94e081e04f75855177c15d64693a": {
          "model_module": "@jupyter-widgets/controls",
          "model_name": "ButtonModel",
          "model_module_version": "1.5.0",
          "state": {
            "_dom_classes": [],
            "_model_module": "@jupyter-widgets/controls",
            "_model_module_version": "1.5.0",
            "_model_name": "ButtonModel",
            "_view_count": null,
            "_view_module": "@jupyter-widgets/controls",
            "_view_module_version": "1.5.0",
            "_view_name": "ButtonView",
            "button_style": "",
            "description": "",
            "disabled": false,
            "icon": "",
            "layout": "IPY_MODEL_4f0c3fe13b594e669e4be7560ac32c80",
            "style": "IPY_MODEL_4c803b9a4fea4897952837a98e7791e3",
            "tooltip": ""
          }
        },
        "4817671092bc44aa8e9fec8cfcef8ed1": {
          "model_module": "@jupyter-widgets/controls",
          "model_name": "ButtonModel",
          "model_module_version": "1.5.0",
          "state": {
            "_dom_classes": [],
            "_model_module": "@jupyter-widgets/controls",
            "_model_module_version": "1.5.0",
            "_model_name": "ButtonModel",
            "_view_count": null,
            "_view_module": "@jupyter-widgets/controls",
            "_view_module_version": "1.5.0",
            "_view_name": "ButtonView",
            "button_style": "",
            "description": "",
            "disabled": false,
            "icon": "",
            "layout": "IPY_MODEL_4f0c3fe13b594e669e4be7560ac32c80",
            "style": "IPY_MODEL_dac7ca3e06b246038778749892c2ee8e",
            "tooltip": ""
          }
        },
        "ee27dd14c3e64666b51b7390ec9c832f": {
          "model_module": "@jupyter-widgets/controls",
          "model_name": "ButtonModel",
          "model_module_version": "1.5.0",
          "state": {
            "_dom_classes": [],
            "_model_module": "@jupyter-widgets/controls",
            "_model_module_version": "1.5.0",
            "_model_name": "ButtonModel",
            "_view_count": null,
            "_view_module": "@jupyter-widgets/controls",
            "_view_module_version": "1.5.0",
            "_view_name": "ButtonView",
            "button_style": "",
            "description": "",
            "disabled": false,
            "icon": "",
            "layout": "IPY_MODEL_4f0c3fe13b594e669e4be7560ac32c80",
            "style": "IPY_MODEL_dab879ec2e5248b997789104b26525f1",
            "tooltip": ""
          }
        },
        "042bab8bc938469aafeba721caff7fef": {
          "model_module": "@jupyter-widgets/base",
          "model_name": "LayoutModel",
          "model_module_version": "1.2.0",
          "state": {
            "_model_module": "@jupyter-widgets/base",
            "_model_module_version": "1.2.0",
            "_model_name": "LayoutModel",
            "_view_count": null,
            "_view_module": "@jupyter-widgets/base",
            "_view_module_version": "1.2.0",
            "_view_name": "LayoutView",
            "align_content": null,
            "align_items": null,
            "align_self": null,
            "border": null,
            "bottom": null,
            "display": null,
            "flex": null,
            "flex_flow": null,
            "grid_area": null,
            "grid_auto_columns": null,
            "grid_auto_flow": null,
            "grid_auto_rows": null,
            "grid_column": null,
            "grid_gap": "0.1%",
            "grid_row": null,
            "grid_template_areas": null,
            "grid_template_columns": "repeat(10, 25px)",
            "grid_template_rows": null,
            "height": null,
            "justify_content": null,
            "justify_items": null,
            "left": null,
            "margin": "10px 10px 10px 10px",
            "max_height": null,
            "max_width": null,
            "min_height": null,
            "min_width": null,
            "object_fit": null,
            "object_position": null,
            "order": null,
            "overflow": null,
            "overflow_x": null,
            "overflow_y": null,
            "padding": null,
            "right": null,
            "top": null,
            "visibility": null,
            "width": null
          }
        },
        "4f0c3fe13b594e669e4be7560ac32c80": {
          "model_module": "@jupyter-widgets/base",
          "model_name": "LayoutModel",
          "model_module_version": "1.2.0",
          "state": {
            "_model_module": "@jupyter-widgets/base",
            "_model_module_version": "1.2.0",
            "_model_name": "LayoutModel",
            "_view_count": null,
            "_view_module": "@jupyter-widgets/base",
            "_view_module_version": "1.2.0",
            "_view_name": "LayoutView",
            "align_content": null,
            "align_items": null,
            "align_self": null,
            "border": "1px solid",
            "bottom": null,
            "display": null,
            "flex": null,
            "flex_flow": null,
            "grid_area": null,
            "grid_auto_columns": null,
            "grid_auto_flow": null,
            "grid_auto_rows": null,
            "grid_column": null,
            "grid_gap": null,
            "grid_row": null,
            "grid_template_areas": null,
            "grid_template_columns": null,
            "grid_template_rows": null,
            "height": "25px",
            "justify_content": null,
            "justify_items": null,
            "left": null,
            "margin": null,
            "max_height": null,
            "max_width": null,
            "min_height": null,
            "min_width": null,
            "object_fit": null,
            "object_position": null,
            "order": null,
            "overflow": null,
            "overflow_x": null,
            "overflow_y": null,
            "padding": null,
            "right": null,
            "top": null,
            "visibility": null,
            "width": "100%"
          }
        },
        "6b61f795dd104ebe8f8e6d6f6abf50ad": {
          "model_module": "@jupyter-widgets/controls",
          "model_name": "ButtonStyleModel",
          "model_module_version": "1.5.0",
          "state": {
            "_model_module": "@jupyter-widgets/controls",
            "_model_module_version": "1.5.0",
            "_model_name": "ButtonStyleModel",
            "_view_count": null,
            "_view_module": "@jupyter-widgets/base",
            "_view_module_version": "1.2.0",
            "_view_name": "StyleView",
            "button_color": "white",
            "font_weight": ""
          }
        },
        "8a2db3de0bd048628c20f8d08236ce7b": {
          "model_module": "@jupyter-widgets/controls",
          "model_name": "ButtonStyleModel",
          "model_module_version": "1.5.0",
          "state": {
            "_model_module": "@jupyter-widgets/controls",
            "_model_module_version": "1.5.0",
            "_model_name": "ButtonStyleModel",
            "_view_count": null,
            "_view_module": "@jupyter-widgets/base",
            "_view_module_version": "1.2.0",
            "_view_name": "StyleView",
            "button_color": "white",
            "font_weight": ""
          }
        },
        "29e1117344e34697b57ba7d8415e3db0": {
          "model_module": "@jupyter-widgets/controls",
          "model_name": "ButtonStyleModel",
          "model_module_version": "1.5.0",
          "state": {
            "_model_module": "@jupyter-widgets/controls",
            "_model_module_version": "1.5.0",
            "_model_name": "ButtonStyleModel",
            "_view_count": null,
            "_view_module": "@jupyter-widgets/base",
            "_view_module_version": "1.2.0",
            "_view_name": "StyleView",
            "button_color": "white",
            "font_weight": ""
          }
        },
        "a78c1fd61c12403cb1320649681269ca": {
          "model_module": "@jupyter-widgets/controls",
          "model_name": "ButtonStyleModel",
          "model_module_version": "1.5.0",
          "state": {
            "_model_module": "@jupyter-widgets/controls",
            "_model_module_version": "1.5.0",
            "_model_name": "ButtonStyleModel",
            "_view_count": null,
            "_view_module": "@jupyter-widgets/base",
            "_view_module_version": "1.2.0",
            "_view_name": "StyleView",
            "button_color": "white",
            "font_weight": ""
          }
        },
        "807054b8fd5843b98d3df8fa4920497d": {
          "model_module": "@jupyter-widgets/controls",
          "model_name": "ButtonStyleModel",
          "model_module_version": "1.5.0",
          "state": {
            "_model_module": "@jupyter-widgets/controls",
            "_model_module_version": "1.5.0",
            "_model_name": "ButtonStyleModel",
            "_view_count": null,
            "_view_module": "@jupyter-widgets/base",
            "_view_module_version": "1.2.0",
            "_view_name": "StyleView",
            "button_color": "white",
            "font_weight": ""
          }
        },
        "85fece99d66a4ccd9a494e5eceffc3f4": {
          "model_module": "@jupyter-widgets/controls",
          "model_name": "ButtonStyleModel",
          "model_module_version": "1.5.0",
          "state": {
            "_model_module": "@jupyter-widgets/controls",
            "_model_module_version": "1.5.0",
            "_model_name": "ButtonStyleModel",
            "_view_count": null,
            "_view_module": "@jupyter-widgets/base",
            "_view_module_version": "1.2.0",
            "_view_name": "StyleView",
            "button_color": "white",
            "font_weight": ""
          }
        },
        "2f667c29fbde47118c5fc005f5894241": {
          "model_module": "@jupyter-widgets/controls",
          "model_name": "ButtonStyleModel",
          "model_module_version": "1.5.0",
          "state": {
            "_model_module": "@jupyter-widgets/controls",
            "_model_module_version": "1.5.0",
            "_model_name": "ButtonStyleModel",
            "_view_count": null,
            "_view_module": "@jupyter-widgets/base",
            "_view_module_version": "1.2.0",
            "_view_name": "StyleView",
            "button_color": "white",
            "font_weight": ""
          }
        },
        "159e654c50da432480f8d95f861123ce": {
          "model_module": "@jupyter-widgets/controls",
          "model_name": "ButtonStyleModel",
          "model_module_version": "1.5.0",
          "state": {
            "_model_module": "@jupyter-widgets/controls",
            "_model_module_version": "1.5.0",
            "_model_name": "ButtonStyleModel",
            "_view_count": null,
            "_view_module": "@jupyter-widgets/base",
            "_view_module_version": "1.2.0",
            "_view_name": "StyleView",
            "button_color": "white",
            "font_weight": ""
          }
        },
        "1fe4cd1452374f9a8cdf97b82cc2bc5c": {
          "model_module": "@jupyter-widgets/controls",
          "model_name": "ButtonStyleModel",
          "model_module_version": "1.5.0",
          "state": {
            "_model_module": "@jupyter-widgets/controls",
            "_model_module_version": "1.5.0",
            "_model_name": "ButtonStyleModel",
            "_view_count": null,
            "_view_module": "@jupyter-widgets/base",
            "_view_module_version": "1.2.0",
            "_view_name": "StyleView",
            "button_color": "white",
            "font_weight": ""
          }
        },
        "fd16836d7f0e4620b52fae1af62112f2": {
          "model_module": "@jupyter-widgets/controls",
          "model_name": "ButtonStyleModel",
          "model_module_version": "1.5.0",
          "state": {
            "_model_module": "@jupyter-widgets/controls",
            "_model_module_version": "1.5.0",
            "_model_name": "ButtonStyleModel",
            "_view_count": null,
            "_view_module": "@jupyter-widgets/base",
            "_view_module_version": "1.2.0",
            "_view_name": "StyleView",
            "button_color": "white",
            "font_weight": ""
          }
        },
        "3520f46212034acb865a9cb44c099273": {
          "model_module": "@jupyter-widgets/controls",
          "model_name": "ButtonStyleModel",
          "model_module_version": "1.5.0",
          "state": {
            "_model_module": "@jupyter-widgets/controls",
            "_model_module_version": "1.5.0",
            "_model_name": "ButtonStyleModel",
            "_view_count": null,
            "_view_module": "@jupyter-widgets/base",
            "_view_module_version": "1.2.0",
            "_view_name": "StyleView",
            "button_color": "white",
            "font_weight": ""
          }
        },
        "c747204eeefb4c1d9bbdede173775dbc": {
          "model_module": "@jupyter-widgets/controls",
          "model_name": "ButtonStyleModel",
          "model_module_version": "1.5.0",
          "state": {
            "_model_module": "@jupyter-widgets/controls",
            "_model_module_version": "1.5.0",
            "_model_name": "ButtonStyleModel",
            "_view_count": null,
            "_view_module": "@jupyter-widgets/base",
            "_view_module_version": "1.2.0",
            "_view_name": "StyleView",
            "button_color": "white",
            "font_weight": ""
          }
        },
        "bc5aa781d4b14325be7ac109225ea91f": {
          "model_module": "@jupyter-widgets/controls",
          "model_name": "ButtonStyleModel",
          "model_module_version": "1.5.0",
          "state": {
            "_model_module": "@jupyter-widgets/controls",
            "_model_module_version": "1.5.0",
            "_model_name": "ButtonStyleModel",
            "_view_count": null,
            "_view_module": "@jupyter-widgets/base",
            "_view_module_version": "1.2.0",
            "_view_name": "StyleView",
            "button_color": "white",
            "font_weight": ""
          }
        },
        "fd378c34d48647b0abdbc832f7a632ad": {
          "model_module": "@jupyter-widgets/controls",
          "model_name": "ButtonStyleModel",
          "model_module_version": "1.5.0",
          "state": {
            "_model_module": "@jupyter-widgets/controls",
            "_model_module_version": "1.5.0",
            "_model_name": "ButtonStyleModel",
            "_view_count": null,
            "_view_module": "@jupyter-widgets/base",
            "_view_module_version": "1.2.0",
            "_view_name": "StyleView",
            "button_color": "white",
            "font_weight": ""
          }
        },
        "751caf4ffa7c4b5bbfa1bbf78174f7ba": {
          "model_module": "@jupyter-widgets/controls",
          "model_name": "ButtonStyleModel",
          "model_module_version": "1.5.0",
          "state": {
            "_model_module": "@jupyter-widgets/controls",
            "_model_module_version": "1.5.0",
            "_model_name": "ButtonStyleModel",
            "_view_count": null,
            "_view_module": "@jupyter-widgets/base",
            "_view_module_version": "1.2.0",
            "_view_name": "StyleView",
            "button_color": "white",
            "font_weight": ""
          }
        },
        "37575f71dd784e618592ac7449262d9d": {
          "model_module": "@jupyter-widgets/controls",
          "model_name": "ButtonStyleModel",
          "model_module_version": "1.5.0",
          "state": {
            "_model_module": "@jupyter-widgets/controls",
            "_model_module_version": "1.5.0",
            "_model_name": "ButtonStyleModel",
            "_view_count": null,
            "_view_module": "@jupyter-widgets/base",
            "_view_module_version": "1.2.0",
            "_view_name": "StyleView",
            "button_color": "white",
            "font_weight": ""
          }
        },
        "65b648e882f246d5a0e2136b40e194fa": {
          "model_module": "@jupyter-widgets/controls",
          "model_name": "ButtonStyleModel",
          "model_module_version": "1.5.0",
          "state": {
            "_model_module": "@jupyter-widgets/controls",
            "_model_module_version": "1.5.0",
            "_model_name": "ButtonStyleModel",
            "_view_count": null,
            "_view_module": "@jupyter-widgets/base",
            "_view_module_version": "1.2.0",
            "_view_name": "StyleView",
            "button_color": "white",
            "font_weight": ""
          }
        },
        "6c55ff6793d04ca4a65c10702f0d8989": {
          "model_module": "@jupyter-widgets/controls",
          "model_name": "ButtonStyleModel",
          "model_module_version": "1.5.0",
          "state": {
            "_model_module": "@jupyter-widgets/controls",
            "_model_module_version": "1.5.0",
            "_model_name": "ButtonStyleModel",
            "_view_count": null,
            "_view_module": "@jupyter-widgets/base",
            "_view_module_version": "1.2.0",
            "_view_name": "StyleView",
            "button_color": "white",
            "font_weight": ""
          }
        },
        "a88aa795ca014a24beeb0b7c988f4982": {
          "model_module": "@jupyter-widgets/controls",
          "model_name": "ButtonStyleModel",
          "model_module_version": "1.5.0",
          "state": {
            "_model_module": "@jupyter-widgets/controls",
            "_model_module_version": "1.5.0",
            "_model_name": "ButtonStyleModel",
            "_view_count": null,
            "_view_module": "@jupyter-widgets/base",
            "_view_module_version": "1.2.0",
            "_view_name": "StyleView",
            "button_color": "white",
            "font_weight": ""
          }
        },
        "4ea3de7599e24417b9ca316c48a379a0": {
          "model_module": "@jupyter-widgets/controls",
          "model_name": "ButtonStyleModel",
          "model_module_version": "1.5.0",
          "state": {
            "_model_module": "@jupyter-widgets/controls",
            "_model_module_version": "1.5.0",
            "_model_name": "ButtonStyleModel",
            "_view_count": null,
            "_view_module": "@jupyter-widgets/base",
            "_view_module_version": "1.2.0",
            "_view_name": "StyleView",
            "button_color": "white",
            "font_weight": ""
          }
        },
        "d77e54c913f54bd88677a2893c67513b": {
          "model_module": "@jupyter-widgets/controls",
          "model_name": "ButtonStyleModel",
          "model_module_version": "1.5.0",
          "state": {
            "_model_module": "@jupyter-widgets/controls",
            "_model_module_version": "1.5.0",
            "_model_name": "ButtonStyleModel",
            "_view_count": null,
            "_view_module": "@jupyter-widgets/base",
            "_view_module_version": "1.2.0",
            "_view_name": "StyleView",
            "button_color": "white",
            "font_weight": ""
          }
        },
        "538afbcebbeb44f0a8ace40b10b9a4c8": {
          "model_module": "@jupyter-widgets/controls",
          "model_name": "ButtonStyleModel",
          "model_module_version": "1.5.0",
          "state": {
            "_model_module": "@jupyter-widgets/controls",
            "_model_module_version": "1.5.0",
            "_model_name": "ButtonStyleModel",
            "_view_count": null,
            "_view_module": "@jupyter-widgets/base",
            "_view_module_version": "1.2.0",
            "_view_name": "StyleView",
            "button_color": "white",
            "font_weight": ""
          }
        },
        "55fa270bf4bd4e2fa6d06e3ba0442be3": {
          "model_module": "@jupyter-widgets/controls",
          "model_name": "ButtonStyleModel",
          "model_module_version": "1.5.0",
          "state": {
            "_model_module": "@jupyter-widgets/controls",
            "_model_module_version": "1.5.0",
            "_model_name": "ButtonStyleModel",
            "_view_count": null,
            "_view_module": "@jupyter-widgets/base",
            "_view_module_version": "1.2.0",
            "_view_name": "StyleView",
            "button_color": "white",
            "font_weight": ""
          }
        },
        "90ce0e2f5c02494891d01055d84edbbc": {
          "model_module": "@jupyter-widgets/controls",
          "model_name": "ButtonStyleModel",
          "model_module_version": "1.5.0",
          "state": {
            "_model_module": "@jupyter-widgets/controls",
            "_model_module_version": "1.5.0",
            "_model_name": "ButtonStyleModel",
            "_view_count": null,
            "_view_module": "@jupyter-widgets/base",
            "_view_module_version": "1.2.0",
            "_view_name": "StyleView",
            "button_color": "white",
            "font_weight": ""
          }
        },
        "2bd2b7f08aee40848f14a74c2b98ad45": {
          "model_module": "@jupyter-widgets/controls",
          "model_name": "ButtonStyleModel",
          "model_module_version": "1.5.0",
          "state": {
            "_model_module": "@jupyter-widgets/controls",
            "_model_module_version": "1.5.0",
            "_model_name": "ButtonStyleModel",
            "_view_count": null,
            "_view_module": "@jupyter-widgets/base",
            "_view_module_version": "1.2.0",
            "_view_name": "StyleView",
            "button_color": "white",
            "font_weight": ""
          }
        },
        "94d45905e6734a1fad83954bbd6b373a": {
          "model_module": "@jupyter-widgets/controls",
          "model_name": "ButtonStyleModel",
          "model_module_version": "1.5.0",
          "state": {
            "_model_module": "@jupyter-widgets/controls",
            "_model_module_version": "1.5.0",
            "_model_name": "ButtonStyleModel",
            "_view_count": null,
            "_view_module": "@jupyter-widgets/base",
            "_view_module_version": "1.2.0",
            "_view_name": "StyleView",
            "button_color": "white",
            "font_weight": ""
          }
        },
        "de915e192e9b47f29d7f28fb8ca99d86": {
          "model_module": "@jupyter-widgets/controls",
          "model_name": "ButtonStyleModel",
          "model_module_version": "1.5.0",
          "state": {
            "_model_module": "@jupyter-widgets/controls",
            "_model_module_version": "1.5.0",
            "_model_name": "ButtonStyleModel",
            "_view_count": null,
            "_view_module": "@jupyter-widgets/base",
            "_view_module_version": "1.2.0",
            "_view_name": "StyleView",
            "button_color": "white",
            "font_weight": ""
          }
        },
        "013e564d5c824835bfb2047cf62aa6a0": {
          "model_module": "@jupyter-widgets/controls",
          "model_name": "ButtonStyleModel",
          "model_module_version": "1.5.0",
          "state": {
            "_model_module": "@jupyter-widgets/controls",
            "_model_module_version": "1.5.0",
            "_model_name": "ButtonStyleModel",
            "_view_count": null,
            "_view_module": "@jupyter-widgets/base",
            "_view_module_version": "1.2.0",
            "_view_name": "StyleView",
            "button_color": "white",
            "font_weight": ""
          }
        },
        "923c38be87af49ee95680cadaee90529": {
          "model_module": "@jupyter-widgets/controls",
          "model_name": "ButtonStyleModel",
          "model_module_version": "1.5.0",
          "state": {
            "_model_module": "@jupyter-widgets/controls",
            "_model_module_version": "1.5.0",
            "_model_name": "ButtonStyleModel",
            "_view_count": null,
            "_view_module": "@jupyter-widgets/base",
            "_view_module_version": "1.2.0",
            "_view_name": "StyleView",
            "button_color": "white",
            "font_weight": ""
          }
        },
        "2d95d0baa90b401da6963992dde62979": {
          "model_module": "@jupyter-widgets/controls",
          "model_name": "ButtonStyleModel",
          "model_module_version": "1.5.0",
          "state": {
            "_model_module": "@jupyter-widgets/controls",
            "_model_module_version": "1.5.0",
            "_model_name": "ButtonStyleModel",
            "_view_count": null,
            "_view_module": "@jupyter-widgets/base",
            "_view_module_version": "1.2.0",
            "_view_name": "StyleView",
            "button_color": "white",
            "font_weight": ""
          }
        },
        "6b3cb66a8369455288524cb5f68b0aaf": {
          "model_module": "@jupyter-widgets/controls",
          "model_name": "ButtonStyleModel",
          "model_module_version": "1.5.0",
          "state": {
            "_model_module": "@jupyter-widgets/controls",
            "_model_module_version": "1.5.0",
            "_model_name": "ButtonStyleModel",
            "_view_count": null,
            "_view_module": "@jupyter-widgets/base",
            "_view_module_version": "1.2.0",
            "_view_name": "StyleView",
            "button_color": "white",
            "font_weight": ""
          }
        },
        "af9e4d25eee140c1a13b5270201c77bb": {
          "model_module": "@jupyter-widgets/controls",
          "model_name": "ButtonStyleModel",
          "model_module_version": "1.5.0",
          "state": {
            "_model_module": "@jupyter-widgets/controls",
            "_model_module_version": "1.5.0",
            "_model_name": "ButtonStyleModel",
            "_view_count": null,
            "_view_module": "@jupyter-widgets/base",
            "_view_module_version": "1.2.0",
            "_view_name": "StyleView",
            "button_color": "white",
            "font_weight": ""
          }
        },
        "674b12f1b0ef4b5da03b0113814573c9": {
          "model_module": "@jupyter-widgets/controls",
          "model_name": "ButtonStyleModel",
          "model_module_version": "1.5.0",
          "state": {
            "_model_module": "@jupyter-widgets/controls",
            "_model_module_version": "1.5.0",
            "_model_name": "ButtonStyleModel",
            "_view_count": null,
            "_view_module": "@jupyter-widgets/base",
            "_view_module_version": "1.2.0",
            "_view_name": "StyleView",
            "button_color": "white",
            "font_weight": ""
          }
        },
        "2e52e607fdf149d59a617e72e30c6e56": {
          "model_module": "@jupyter-widgets/controls",
          "model_name": "ButtonStyleModel",
          "model_module_version": "1.5.0",
          "state": {
            "_model_module": "@jupyter-widgets/controls",
            "_model_module_version": "1.5.0",
            "_model_name": "ButtonStyleModel",
            "_view_count": null,
            "_view_module": "@jupyter-widgets/base",
            "_view_module_version": "1.2.0",
            "_view_name": "StyleView",
            "button_color": "white",
            "font_weight": ""
          }
        },
        "a3e182bda4f541e2820843a48a76e620": {
          "model_module": "@jupyter-widgets/controls",
          "model_name": "ButtonStyleModel",
          "model_module_version": "1.5.0",
          "state": {
            "_model_module": "@jupyter-widgets/controls",
            "_model_module_version": "1.5.0",
            "_model_name": "ButtonStyleModel",
            "_view_count": null,
            "_view_module": "@jupyter-widgets/base",
            "_view_module_version": "1.2.0",
            "_view_name": "StyleView",
            "button_color": "white",
            "font_weight": ""
          }
        },
        "7736749de3454d39a02a8f55b7b96545": {
          "model_module": "@jupyter-widgets/controls",
          "model_name": "ButtonStyleModel",
          "model_module_version": "1.5.0",
          "state": {
            "_model_module": "@jupyter-widgets/controls",
            "_model_module_version": "1.5.0",
            "_model_name": "ButtonStyleModel",
            "_view_count": null,
            "_view_module": "@jupyter-widgets/base",
            "_view_module_version": "1.2.0",
            "_view_name": "StyleView",
            "button_color": "white",
            "font_weight": ""
          }
        },
        "1c5ae68dd50442c88390ab5276aae9b9": {
          "model_module": "@jupyter-widgets/controls",
          "model_name": "ButtonStyleModel",
          "model_module_version": "1.5.0",
          "state": {
            "_model_module": "@jupyter-widgets/controls",
            "_model_module_version": "1.5.0",
            "_model_name": "ButtonStyleModel",
            "_view_count": null,
            "_view_module": "@jupyter-widgets/base",
            "_view_module_version": "1.2.0",
            "_view_name": "StyleView",
            "button_color": "white",
            "font_weight": ""
          }
        },
        "cccc8f52c58648ce98403aeb27f7a53f": {
          "model_module": "@jupyter-widgets/controls",
          "model_name": "ButtonStyleModel",
          "model_module_version": "1.5.0",
          "state": {
            "_model_module": "@jupyter-widgets/controls",
            "_model_module_version": "1.5.0",
            "_model_name": "ButtonStyleModel",
            "_view_count": null,
            "_view_module": "@jupyter-widgets/base",
            "_view_module_version": "1.2.0",
            "_view_name": "StyleView",
            "button_color": "white",
            "font_weight": ""
          }
        },
        "5907bc03482f42c28ae5a4ecc8dc0790": {
          "model_module": "@jupyter-widgets/controls",
          "model_name": "ButtonStyleModel",
          "model_module_version": "1.5.0",
          "state": {
            "_model_module": "@jupyter-widgets/controls",
            "_model_module_version": "1.5.0",
            "_model_name": "ButtonStyleModel",
            "_view_count": null,
            "_view_module": "@jupyter-widgets/base",
            "_view_module_version": "1.2.0",
            "_view_name": "StyleView",
            "button_color": "white",
            "font_weight": ""
          }
        },
        "5e54d58dbe804c98a352bd3dc7724970": {
          "model_module": "@jupyter-widgets/controls",
          "model_name": "ButtonStyleModel",
          "model_module_version": "1.5.0",
          "state": {
            "_model_module": "@jupyter-widgets/controls",
            "_model_module_version": "1.5.0",
            "_model_name": "ButtonStyleModel",
            "_view_count": null,
            "_view_module": "@jupyter-widgets/base",
            "_view_module_version": "1.2.0",
            "_view_name": "StyleView",
            "button_color": "white",
            "font_weight": ""
          }
        },
        "de3a573741984318beb740034e41c2e1": {
          "model_module": "@jupyter-widgets/controls",
          "model_name": "ButtonStyleModel",
          "model_module_version": "1.5.0",
          "state": {
            "_model_module": "@jupyter-widgets/controls",
            "_model_module_version": "1.5.0",
            "_model_name": "ButtonStyleModel",
            "_view_count": null,
            "_view_module": "@jupyter-widgets/base",
            "_view_module_version": "1.2.0",
            "_view_name": "StyleView",
            "button_color": "white",
            "font_weight": ""
          }
        },
        "6e961b5f16324f50a8c94ae13b5f11c2": {
          "model_module": "@jupyter-widgets/controls",
          "model_name": "ButtonStyleModel",
          "model_module_version": "1.5.0",
          "state": {
            "_model_module": "@jupyter-widgets/controls",
            "_model_module_version": "1.5.0",
            "_model_name": "ButtonStyleModel",
            "_view_count": null,
            "_view_module": "@jupyter-widgets/base",
            "_view_module_version": "1.2.0",
            "_view_name": "StyleView",
            "button_color": "white",
            "font_weight": ""
          }
        },
        "42fa4f39be6f4cca9f9a84676c312b45": {
          "model_module": "@jupyter-widgets/controls",
          "model_name": "ButtonStyleModel",
          "model_module_version": "1.5.0",
          "state": {
            "_model_module": "@jupyter-widgets/controls",
            "_model_module_version": "1.5.0",
            "_model_name": "ButtonStyleModel",
            "_view_count": null,
            "_view_module": "@jupyter-widgets/base",
            "_view_module_version": "1.2.0",
            "_view_name": "StyleView",
            "button_color": "white",
            "font_weight": ""
          }
        },
        "6cf5ac18a8514bb79038c96249bf8c79": {
          "model_module": "@jupyter-widgets/controls",
          "model_name": "ButtonStyleModel",
          "model_module_version": "1.5.0",
          "state": {
            "_model_module": "@jupyter-widgets/controls",
            "_model_module_version": "1.5.0",
            "_model_name": "ButtonStyleModel",
            "_view_count": null,
            "_view_module": "@jupyter-widgets/base",
            "_view_module_version": "1.2.0",
            "_view_name": "StyleView",
            "button_color": "white",
            "font_weight": ""
          }
        },
        "a5626f60c10d478395875e2a224fd573": {
          "model_module": "@jupyter-widgets/controls",
          "model_name": "ButtonStyleModel",
          "model_module_version": "1.5.0",
          "state": {
            "_model_module": "@jupyter-widgets/controls",
            "_model_module_version": "1.5.0",
            "_model_name": "ButtonStyleModel",
            "_view_count": null,
            "_view_module": "@jupyter-widgets/base",
            "_view_module_version": "1.2.0",
            "_view_name": "StyleView",
            "button_color": "white",
            "font_weight": ""
          }
        },
        "3a863912324448e98af145d516b627c4": {
          "model_module": "@jupyter-widgets/controls",
          "model_name": "ButtonStyleModel",
          "model_module_version": "1.5.0",
          "state": {
            "_model_module": "@jupyter-widgets/controls",
            "_model_module_version": "1.5.0",
            "_model_name": "ButtonStyleModel",
            "_view_count": null,
            "_view_module": "@jupyter-widgets/base",
            "_view_module_version": "1.2.0",
            "_view_name": "StyleView",
            "button_color": "white",
            "font_weight": ""
          }
        },
        "cf8dd8efcfe04576a2dd03ee9e6b598c": {
          "model_module": "@jupyter-widgets/controls",
          "model_name": "ButtonStyleModel",
          "model_module_version": "1.5.0",
          "state": {
            "_model_module": "@jupyter-widgets/controls",
            "_model_module_version": "1.5.0",
            "_model_name": "ButtonStyleModel",
            "_view_count": null,
            "_view_module": "@jupyter-widgets/base",
            "_view_module_version": "1.2.0",
            "_view_name": "StyleView",
            "button_color": "white",
            "font_weight": ""
          }
        },
        "7d318c9a5f2d47acb49e8de233f53e18": {
          "model_module": "@jupyter-widgets/controls",
          "model_name": "ButtonStyleModel",
          "model_module_version": "1.5.0",
          "state": {
            "_model_module": "@jupyter-widgets/controls",
            "_model_module_version": "1.5.0",
            "_model_name": "ButtonStyleModel",
            "_view_count": null,
            "_view_module": "@jupyter-widgets/base",
            "_view_module_version": "1.2.0",
            "_view_name": "StyleView",
            "button_color": "white",
            "font_weight": ""
          }
        },
        "5e4386b85f6b4e9fa4ef34d549c71ca8": {
          "model_module": "@jupyter-widgets/controls",
          "model_name": "ButtonStyleModel",
          "model_module_version": "1.5.0",
          "state": {
            "_model_module": "@jupyter-widgets/controls",
            "_model_module_version": "1.5.0",
            "_model_name": "ButtonStyleModel",
            "_view_count": null,
            "_view_module": "@jupyter-widgets/base",
            "_view_module_version": "1.2.0",
            "_view_name": "StyleView",
            "button_color": "white",
            "font_weight": ""
          }
        },
        "c991c32a68684ea79a11645bb4bcb5c5": {
          "model_module": "@jupyter-widgets/controls",
          "model_name": "ButtonStyleModel",
          "model_module_version": "1.5.0",
          "state": {
            "_model_module": "@jupyter-widgets/controls",
            "_model_module_version": "1.5.0",
            "_model_name": "ButtonStyleModel",
            "_view_count": null,
            "_view_module": "@jupyter-widgets/base",
            "_view_module_version": "1.2.0",
            "_view_name": "StyleView",
            "button_color": "white",
            "font_weight": ""
          }
        },
        "706aaf78853c499385bc7f48a66a0a5d": {
          "model_module": "@jupyter-widgets/controls",
          "model_name": "ButtonStyleModel",
          "model_module_version": "1.5.0",
          "state": {
            "_model_module": "@jupyter-widgets/controls",
            "_model_module_version": "1.5.0",
            "_model_name": "ButtonStyleModel",
            "_view_count": null,
            "_view_module": "@jupyter-widgets/base",
            "_view_module_version": "1.2.0",
            "_view_name": "StyleView",
            "button_color": "white",
            "font_weight": ""
          }
        },
        "c8d4930defb843f29f972fa8e2470567": {
          "model_module": "@jupyter-widgets/controls",
          "model_name": "ButtonStyleModel",
          "model_module_version": "1.5.0",
          "state": {
            "_model_module": "@jupyter-widgets/controls",
            "_model_module_version": "1.5.0",
            "_model_name": "ButtonStyleModel",
            "_view_count": null,
            "_view_module": "@jupyter-widgets/base",
            "_view_module_version": "1.2.0",
            "_view_name": "StyleView",
            "button_color": "white",
            "font_weight": ""
          }
        },
        "978090fb391e48b5a480e8b26e17fdcc": {
          "model_module": "@jupyter-widgets/controls",
          "model_name": "ButtonStyleModel",
          "model_module_version": "1.5.0",
          "state": {
            "_model_module": "@jupyter-widgets/controls",
            "_model_module_version": "1.5.0",
            "_model_name": "ButtonStyleModel",
            "_view_count": null,
            "_view_module": "@jupyter-widgets/base",
            "_view_module_version": "1.2.0",
            "_view_name": "StyleView",
            "button_color": "white",
            "font_weight": ""
          }
        },
        "75a613429e9b425aaff22cbcf900c806": {
          "model_module": "@jupyter-widgets/controls",
          "model_name": "ButtonStyleModel",
          "model_module_version": "1.5.0",
          "state": {
            "_model_module": "@jupyter-widgets/controls",
            "_model_module_version": "1.5.0",
            "_model_name": "ButtonStyleModel",
            "_view_count": null,
            "_view_module": "@jupyter-widgets/base",
            "_view_module_version": "1.2.0",
            "_view_name": "StyleView",
            "button_color": "white",
            "font_weight": ""
          }
        },
        "a9e0ae31682c438d90ec4c2ca2bffd7d": {
          "model_module": "@jupyter-widgets/controls",
          "model_name": "ButtonStyleModel",
          "model_module_version": "1.5.0",
          "state": {
            "_model_module": "@jupyter-widgets/controls",
            "_model_module_version": "1.5.0",
            "_model_name": "ButtonStyleModel",
            "_view_count": null,
            "_view_module": "@jupyter-widgets/base",
            "_view_module_version": "1.2.0",
            "_view_name": "StyleView",
            "button_color": "white",
            "font_weight": ""
          }
        },
        "b5cc81e0df5b4b53bfc93d2e3368aa73": {
          "model_module": "@jupyter-widgets/controls",
          "model_name": "ButtonStyleModel",
          "model_module_version": "1.5.0",
          "state": {
            "_model_module": "@jupyter-widgets/controls",
            "_model_module_version": "1.5.0",
            "_model_name": "ButtonStyleModel",
            "_view_count": null,
            "_view_module": "@jupyter-widgets/base",
            "_view_module_version": "1.2.0",
            "_view_name": "StyleView",
            "button_color": "white",
            "font_weight": ""
          }
        },
        "a291ee8d51224f5e883c5957dfe41c6c": {
          "model_module": "@jupyter-widgets/controls",
          "model_name": "ButtonStyleModel",
          "model_module_version": "1.5.0",
          "state": {
            "_model_module": "@jupyter-widgets/controls",
            "_model_module_version": "1.5.0",
            "_model_name": "ButtonStyleModel",
            "_view_count": null,
            "_view_module": "@jupyter-widgets/base",
            "_view_module_version": "1.2.0",
            "_view_name": "StyleView",
            "button_color": "white",
            "font_weight": ""
          }
        },
        "3525d1e09d6744b6a89135b5165e1c43": {
          "model_module": "@jupyter-widgets/controls",
          "model_name": "ButtonStyleModel",
          "model_module_version": "1.5.0",
          "state": {
            "_model_module": "@jupyter-widgets/controls",
            "_model_module_version": "1.5.0",
            "_model_name": "ButtonStyleModel",
            "_view_count": null,
            "_view_module": "@jupyter-widgets/base",
            "_view_module_version": "1.2.0",
            "_view_name": "StyleView",
            "button_color": "white",
            "font_weight": ""
          }
        },
        "6114180faef34febb40edf0d50c9b75b": {
          "model_module": "@jupyter-widgets/controls",
          "model_name": "ButtonStyleModel",
          "model_module_version": "1.5.0",
          "state": {
            "_model_module": "@jupyter-widgets/controls",
            "_model_module_version": "1.5.0",
            "_model_name": "ButtonStyleModel",
            "_view_count": null,
            "_view_module": "@jupyter-widgets/base",
            "_view_module_version": "1.2.0",
            "_view_name": "StyleView",
            "button_color": "white",
            "font_weight": ""
          }
        },
        "f6d15c14f6d447f4a847f6c1d3c69e91": {
          "model_module": "@jupyter-widgets/controls",
          "model_name": "ButtonStyleModel",
          "model_module_version": "1.5.0",
          "state": {
            "_model_module": "@jupyter-widgets/controls",
            "_model_module_version": "1.5.0",
            "_model_name": "ButtonStyleModel",
            "_view_count": null,
            "_view_module": "@jupyter-widgets/base",
            "_view_module_version": "1.2.0",
            "_view_name": "StyleView",
            "button_color": "white",
            "font_weight": ""
          }
        },
        "47f4a6fd47204a279af38b6f0ebdedf2": {
          "model_module": "@jupyter-widgets/controls",
          "model_name": "ButtonStyleModel",
          "model_module_version": "1.5.0",
          "state": {
            "_model_module": "@jupyter-widgets/controls",
            "_model_module_version": "1.5.0",
            "_model_name": "ButtonStyleModel",
            "_view_count": null,
            "_view_module": "@jupyter-widgets/base",
            "_view_module_version": "1.2.0",
            "_view_name": "StyleView",
            "button_color": "white",
            "font_weight": ""
          }
        },
        "6b1f789e2af845db868dbccce64c5e53": {
          "model_module": "@jupyter-widgets/controls",
          "model_name": "ButtonStyleModel",
          "model_module_version": "1.5.0",
          "state": {
            "_model_module": "@jupyter-widgets/controls",
            "_model_module_version": "1.5.0",
            "_model_name": "ButtonStyleModel",
            "_view_count": null,
            "_view_module": "@jupyter-widgets/base",
            "_view_module_version": "1.2.0",
            "_view_name": "StyleView",
            "button_color": "white",
            "font_weight": ""
          }
        },
        "f29f95e7df2148e2adbce70103e53b94": {
          "model_module": "@jupyter-widgets/controls",
          "model_name": "ButtonStyleModel",
          "model_module_version": "1.5.0",
          "state": {
            "_model_module": "@jupyter-widgets/controls",
            "_model_module_version": "1.5.0",
            "_model_name": "ButtonStyleModel",
            "_view_count": null,
            "_view_module": "@jupyter-widgets/base",
            "_view_module_version": "1.2.0",
            "_view_name": "StyleView",
            "button_color": "white",
            "font_weight": ""
          }
        },
        "7a195965777f49f5812ae6e07748a321": {
          "model_module": "@jupyter-widgets/controls",
          "model_name": "ButtonStyleModel",
          "model_module_version": "1.5.0",
          "state": {
            "_model_module": "@jupyter-widgets/controls",
            "_model_module_version": "1.5.0",
            "_model_name": "ButtonStyleModel",
            "_view_count": null,
            "_view_module": "@jupyter-widgets/base",
            "_view_module_version": "1.2.0",
            "_view_name": "StyleView",
            "button_color": "white",
            "font_weight": ""
          }
        },
        "4c9dc2ea07064eef9e739beede0da0d5": {
          "model_module": "@jupyter-widgets/controls",
          "model_name": "ButtonStyleModel",
          "model_module_version": "1.5.0",
          "state": {
            "_model_module": "@jupyter-widgets/controls",
            "_model_module_version": "1.5.0",
            "_model_name": "ButtonStyleModel",
            "_view_count": null,
            "_view_module": "@jupyter-widgets/base",
            "_view_module_version": "1.2.0",
            "_view_name": "StyleView",
            "button_color": "white",
            "font_weight": ""
          }
        },
        "196072731af342b6beb90cd2e3ebbc5e": {
          "model_module": "@jupyter-widgets/controls",
          "model_name": "ButtonStyleModel",
          "model_module_version": "1.5.0",
          "state": {
            "_model_module": "@jupyter-widgets/controls",
            "_model_module_version": "1.5.0",
            "_model_name": "ButtonStyleModel",
            "_view_count": null,
            "_view_module": "@jupyter-widgets/base",
            "_view_module_version": "1.2.0",
            "_view_name": "StyleView",
            "button_color": "white",
            "font_weight": ""
          }
        },
        "c42bdab318e74e0aa1da7eda70df5c76": {
          "model_module": "@jupyter-widgets/controls",
          "model_name": "ButtonStyleModel",
          "model_module_version": "1.5.0",
          "state": {
            "_model_module": "@jupyter-widgets/controls",
            "_model_module_version": "1.5.0",
            "_model_name": "ButtonStyleModel",
            "_view_count": null,
            "_view_module": "@jupyter-widgets/base",
            "_view_module_version": "1.2.0",
            "_view_name": "StyleView",
            "button_color": "white",
            "font_weight": ""
          }
        },
        "a069fb84607d47d39bce0f3cc0d0bfb5": {
          "model_module": "@jupyter-widgets/controls",
          "model_name": "ButtonStyleModel",
          "model_module_version": "1.5.0",
          "state": {
            "_model_module": "@jupyter-widgets/controls",
            "_model_module_version": "1.5.0",
            "_model_name": "ButtonStyleModel",
            "_view_count": null,
            "_view_module": "@jupyter-widgets/base",
            "_view_module_version": "1.2.0",
            "_view_name": "StyleView",
            "button_color": "white",
            "font_weight": ""
          }
        },
        "716d45430ed7426d85711961c52e90b0": {
          "model_module": "@jupyter-widgets/controls",
          "model_name": "ButtonStyleModel",
          "model_module_version": "1.5.0",
          "state": {
            "_model_module": "@jupyter-widgets/controls",
            "_model_module_version": "1.5.0",
            "_model_name": "ButtonStyleModel",
            "_view_count": null,
            "_view_module": "@jupyter-widgets/base",
            "_view_module_version": "1.2.0",
            "_view_name": "StyleView",
            "button_color": "white",
            "font_weight": ""
          }
        },
        "c19a8c2f83b641519e8c1891982b0faf": {
          "model_module": "@jupyter-widgets/controls",
          "model_name": "ButtonStyleModel",
          "model_module_version": "1.5.0",
          "state": {
            "_model_module": "@jupyter-widgets/controls",
            "_model_module_version": "1.5.0",
            "_model_name": "ButtonStyleModel",
            "_view_count": null,
            "_view_module": "@jupyter-widgets/base",
            "_view_module_version": "1.2.0",
            "_view_name": "StyleView",
            "button_color": "white",
            "font_weight": ""
          }
        },
        "d0abca28f72647a09e9869d96386a75f": {
          "model_module": "@jupyter-widgets/controls",
          "model_name": "ButtonStyleModel",
          "model_module_version": "1.5.0",
          "state": {
            "_model_module": "@jupyter-widgets/controls",
            "_model_module_version": "1.5.0",
            "_model_name": "ButtonStyleModel",
            "_view_count": null,
            "_view_module": "@jupyter-widgets/base",
            "_view_module_version": "1.2.0",
            "_view_name": "StyleView",
            "button_color": "white",
            "font_weight": ""
          }
        },
        "8c68dff131a8493c8bdbc93c0db6a4a7": {
          "model_module": "@jupyter-widgets/controls",
          "model_name": "ButtonStyleModel",
          "model_module_version": "1.5.0",
          "state": {
            "_model_module": "@jupyter-widgets/controls",
            "_model_module_version": "1.5.0",
            "_model_name": "ButtonStyleModel",
            "_view_count": null,
            "_view_module": "@jupyter-widgets/base",
            "_view_module_version": "1.2.0",
            "_view_name": "StyleView",
            "button_color": "white",
            "font_weight": ""
          }
        },
        "3834fe5e5eea4c20a00ddecc2054cf46": {
          "model_module": "@jupyter-widgets/controls",
          "model_name": "ButtonStyleModel",
          "model_module_version": "1.5.0",
          "state": {
            "_model_module": "@jupyter-widgets/controls",
            "_model_module_version": "1.5.0",
            "_model_name": "ButtonStyleModel",
            "_view_count": null,
            "_view_module": "@jupyter-widgets/base",
            "_view_module_version": "1.2.0",
            "_view_name": "StyleView",
            "button_color": "white",
            "font_weight": ""
          }
        },
        "116d10016dc94150a1a4ce942475c68a": {
          "model_module": "@jupyter-widgets/controls",
          "model_name": "ButtonStyleModel",
          "model_module_version": "1.5.0",
          "state": {
            "_model_module": "@jupyter-widgets/controls",
            "_model_module_version": "1.5.0",
            "_model_name": "ButtonStyleModel",
            "_view_count": null,
            "_view_module": "@jupyter-widgets/base",
            "_view_module_version": "1.2.0",
            "_view_name": "StyleView",
            "button_color": "white",
            "font_weight": ""
          }
        },
        "f92f71203a4942948390ff193445ba3a": {
          "model_module": "@jupyter-widgets/controls",
          "model_name": "ButtonStyleModel",
          "model_module_version": "1.5.0",
          "state": {
            "_model_module": "@jupyter-widgets/controls",
            "_model_module_version": "1.5.0",
            "_model_name": "ButtonStyleModel",
            "_view_count": null,
            "_view_module": "@jupyter-widgets/base",
            "_view_module_version": "1.2.0",
            "_view_name": "StyleView",
            "button_color": "white",
            "font_weight": ""
          }
        },
        "c7c63e877ba841cd993060caba7dcf90": {
          "model_module": "@jupyter-widgets/controls",
          "model_name": "ButtonStyleModel",
          "model_module_version": "1.5.0",
          "state": {
            "_model_module": "@jupyter-widgets/controls",
            "_model_module_version": "1.5.0",
            "_model_name": "ButtonStyleModel",
            "_view_count": null,
            "_view_module": "@jupyter-widgets/base",
            "_view_module_version": "1.2.0",
            "_view_name": "StyleView",
            "button_color": "white",
            "font_weight": ""
          }
        },
        "70eaacb1c6714f06acea8ea2775a5f7d": {
          "model_module": "@jupyter-widgets/controls",
          "model_name": "ButtonStyleModel",
          "model_module_version": "1.5.0",
          "state": {
            "_model_module": "@jupyter-widgets/controls",
            "_model_module_version": "1.5.0",
            "_model_name": "ButtonStyleModel",
            "_view_count": null,
            "_view_module": "@jupyter-widgets/base",
            "_view_module_version": "1.2.0",
            "_view_name": "StyleView",
            "button_color": "white",
            "font_weight": ""
          }
        },
        "ff270ab702974912bcfc02edee89e4db": {
          "model_module": "@jupyter-widgets/controls",
          "model_name": "ButtonStyleModel",
          "model_module_version": "1.5.0",
          "state": {
            "_model_module": "@jupyter-widgets/controls",
            "_model_module_version": "1.5.0",
            "_model_name": "ButtonStyleModel",
            "_view_count": null,
            "_view_module": "@jupyter-widgets/base",
            "_view_module_version": "1.2.0",
            "_view_name": "StyleView",
            "button_color": "white",
            "font_weight": ""
          }
        },
        "35abff344cd84ba79b65b4f9def0c6ef": {
          "model_module": "@jupyter-widgets/controls",
          "model_name": "ButtonStyleModel",
          "model_module_version": "1.5.0",
          "state": {
            "_model_module": "@jupyter-widgets/controls",
            "_model_module_version": "1.5.0",
            "_model_name": "ButtonStyleModel",
            "_view_count": null,
            "_view_module": "@jupyter-widgets/base",
            "_view_module_version": "1.2.0",
            "_view_name": "StyleView",
            "button_color": "white",
            "font_weight": ""
          }
        },
        "f2f8dcdfee2246419357fb741fc8eb79": {
          "model_module": "@jupyter-widgets/controls",
          "model_name": "ButtonStyleModel",
          "model_module_version": "1.5.0",
          "state": {
            "_model_module": "@jupyter-widgets/controls",
            "_model_module_version": "1.5.0",
            "_model_name": "ButtonStyleModel",
            "_view_count": null,
            "_view_module": "@jupyter-widgets/base",
            "_view_module_version": "1.2.0",
            "_view_name": "StyleView",
            "button_color": "white",
            "font_weight": ""
          }
        },
        "83c85dc6aade40458de597f5c1c1b7f7": {
          "model_module": "@jupyter-widgets/controls",
          "model_name": "ButtonStyleModel",
          "model_module_version": "1.5.0",
          "state": {
            "_model_module": "@jupyter-widgets/controls",
            "_model_module_version": "1.5.0",
            "_model_name": "ButtonStyleModel",
            "_view_count": null,
            "_view_module": "@jupyter-widgets/base",
            "_view_module_version": "1.2.0",
            "_view_name": "StyleView",
            "button_color": "white",
            "font_weight": ""
          }
        },
        "5d2d7a128d124f41a4041ec2a1a3383c": {
          "model_module": "@jupyter-widgets/controls",
          "model_name": "ButtonStyleModel",
          "model_module_version": "1.5.0",
          "state": {
            "_model_module": "@jupyter-widgets/controls",
            "_model_module_version": "1.5.0",
            "_model_name": "ButtonStyleModel",
            "_view_count": null,
            "_view_module": "@jupyter-widgets/base",
            "_view_module_version": "1.2.0",
            "_view_name": "StyleView",
            "button_color": "white",
            "font_weight": ""
          }
        },
        "db4c01c29bf746d7b2ad48603388eb8d": {
          "model_module": "@jupyter-widgets/controls",
          "model_name": "ButtonStyleModel",
          "model_module_version": "1.5.0",
          "state": {
            "_model_module": "@jupyter-widgets/controls",
            "_model_module_version": "1.5.0",
            "_model_name": "ButtonStyleModel",
            "_view_count": null,
            "_view_module": "@jupyter-widgets/base",
            "_view_module_version": "1.2.0",
            "_view_name": "StyleView",
            "button_color": "white",
            "font_weight": ""
          }
        },
        "7eacfb7490bf4bc4a319ba826696371a": {
          "model_module": "@jupyter-widgets/controls",
          "model_name": "ButtonStyleModel",
          "model_module_version": "1.5.0",
          "state": {
            "_model_module": "@jupyter-widgets/controls",
            "_model_module_version": "1.5.0",
            "_model_name": "ButtonStyleModel",
            "_view_count": null,
            "_view_module": "@jupyter-widgets/base",
            "_view_module_version": "1.2.0",
            "_view_name": "StyleView",
            "button_color": "white",
            "font_weight": ""
          }
        },
        "db14b1c2cb0a45308dfa43372309995d": {
          "model_module": "@jupyter-widgets/controls",
          "model_name": "ButtonStyleModel",
          "model_module_version": "1.5.0",
          "state": {
            "_model_module": "@jupyter-widgets/controls",
            "_model_module_version": "1.5.0",
            "_model_name": "ButtonStyleModel",
            "_view_count": null,
            "_view_module": "@jupyter-widgets/base",
            "_view_module_version": "1.2.0",
            "_view_name": "StyleView",
            "button_color": "white",
            "font_weight": ""
          }
        },
        "18d7cf3fb87e43b4959c3ad00a617ae9": {
          "model_module": "@jupyter-widgets/controls",
          "model_name": "ButtonStyleModel",
          "model_module_version": "1.5.0",
          "state": {
            "_model_module": "@jupyter-widgets/controls",
            "_model_module_version": "1.5.0",
            "_model_name": "ButtonStyleModel",
            "_view_count": null,
            "_view_module": "@jupyter-widgets/base",
            "_view_module_version": "1.2.0",
            "_view_name": "StyleView",
            "button_color": "white",
            "font_weight": ""
          }
        },
        "2031d747aab1418ca8ef57db21c48aea": {
          "model_module": "@jupyter-widgets/controls",
          "model_name": "ButtonStyleModel",
          "model_module_version": "1.5.0",
          "state": {
            "_model_module": "@jupyter-widgets/controls",
            "_model_module_version": "1.5.0",
            "_model_name": "ButtonStyleModel",
            "_view_count": null,
            "_view_module": "@jupyter-widgets/base",
            "_view_module_version": "1.2.0",
            "_view_name": "StyleView",
            "button_color": "white",
            "font_weight": ""
          }
        },
        "c7dcc59affda4013a4a357a30da7f9a2": {
          "model_module": "@jupyter-widgets/controls",
          "model_name": "ButtonStyleModel",
          "model_module_version": "1.5.0",
          "state": {
            "_model_module": "@jupyter-widgets/controls",
            "_model_module_version": "1.5.0",
            "_model_name": "ButtonStyleModel",
            "_view_count": null,
            "_view_module": "@jupyter-widgets/base",
            "_view_module_version": "1.2.0",
            "_view_name": "StyleView",
            "button_color": "white",
            "font_weight": ""
          }
        },
        "ed33468cc10b4c07a380d5c758c86025": {
          "model_module": "@jupyter-widgets/controls",
          "model_name": "ButtonStyleModel",
          "model_module_version": "1.5.0",
          "state": {
            "_model_module": "@jupyter-widgets/controls",
            "_model_module_version": "1.5.0",
            "_model_name": "ButtonStyleModel",
            "_view_count": null,
            "_view_module": "@jupyter-widgets/base",
            "_view_module_version": "1.2.0",
            "_view_name": "StyleView",
            "button_color": "white",
            "font_weight": ""
          }
        },
        "2b6750063a724e19a6986cc5deebc3b8": {
          "model_module": "@jupyter-widgets/controls",
          "model_name": "ButtonStyleModel",
          "model_module_version": "1.5.0",
          "state": {
            "_model_module": "@jupyter-widgets/controls",
            "_model_module_version": "1.5.0",
            "_model_name": "ButtonStyleModel",
            "_view_count": null,
            "_view_module": "@jupyter-widgets/base",
            "_view_module_version": "1.2.0",
            "_view_name": "StyleView",
            "button_color": "white",
            "font_weight": ""
          }
        },
        "fdf734189c37469ea7d64d2fa20945f1": {
          "model_module": "@jupyter-widgets/controls",
          "model_name": "ButtonStyleModel",
          "model_module_version": "1.5.0",
          "state": {
            "_model_module": "@jupyter-widgets/controls",
            "_model_module_version": "1.5.0",
            "_model_name": "ButtonStyleModel",
            "_view_count": null,
            "_view_module": "@jupyter-widgets/base",
            "_view_module_version": "1.2.0",
            "_view_name": "StyleView",
            "button_color": "white",
            "font_weight": ""
          }
        },
        "4c00c1f6beac46d88016a0b7462f2534": {
          "model_module": "@jupyter-widgets/controls",
          "model_name": "ButtonStyleModel",
          "model_module_version": "1.5.0",
          "state": {
            "_model_module": "@jupyter-widgets/controls",
            "_model_module_version": "1.5.0",
            "_model_name": "ButtonStyleModel",
            "_view_count": null,
            "_view_module": "@jupyter-widgets/base",
            "_view_module_version": "1.2.0",
            "_view_name": "StyleView",
            "button_color": "white",
            "font_weight": ""
          }
        },
        "d462138e0f4c4e42a01dbc5396c0d251": {
          "model_module": "@jupyter-widgets/controls",
          "model_name": "ButtonStyleModel",
          "model_module_version": "1.5.0",
          "state": {
            "_model_module": "@jupyter-widgets/controls",
            "_model_module_version": "1.5.0",
            "_model_name": "ButtonStyleModel",
            "_view_count": null,
            "_view_module": "@jupyter-widgets/base",
            "_view_module_version": "1.2.0",
            "_view_name": "StyleView",
            "button_color": "white",
            "font_weight": ""
          }
        },
        "889dc5be1d514460b4db14961aff4a4a": {
          "model_module": "@jupyter-widgets/controls",
          "model_name": "ButtonStyleModel",
          "model_module_version": "1.5.0",
          "state": {
            "_model_module": "@jupyter-widgets/controls",
            "_model_module_version": "1.5.0",
            "_model_name": "ButtonStyleModel",
            "_view_count": null,
            "_view_module": "@jupyter-widgets/base",
            "_view_module_version": "1.2.0",
            "_view_name": "StyleView",
            "button_color": "white",
            "font_weight": ""
          }
        },
        "6a13622a322c404d9ba0b9515714f62d": {
          "model_module": "@jupyter-widgets/controls",
          "model_name": "ButtonStyleModel",
          "model_module_version": "1.5.0",
          "state": {
            "_model_module": "@jupyter-widgets/controls",
            "_model_module_version": "1.5.0",
            "_model_name": "ButtonStyleModel",
            "_view_count": null,
            "_view_module": "@jupyter-widgets/base",
            "_view_module_version": "1.2.0",
            "_view_name": "StyleView",
            "button_color": "white",
            "font_weight": ""
          }
        },
        "767de842e9ae4b438d384ad62daa1add": {
          "model_module": "@jupyter-widgets/controls",
          "model_name": "ButtonStyleModel",
          "model_module_version": "1.5.0",
          "state": {
            "_model_module": "@jupyter-widgets/controls",
            "_model_module_version": "1.5.0",
            "_model_name": "ButtonStyleModel",
            "_view_count": null,
            "_view_module": "@jupyter-widgets/base",
            "_view_module_version": "1.2.0",
            "_view_name": "StyleView",
            "button_color": "white",
            "font_weight": ""
          }
        },
        "296ff3e8689e40c1a595ac5db12ad0de": {
          "model_module": "@jupyter-widgets/controls",
          "model_name": "ButtonStyleModel",
          "model_module_version": "1.5.0",
          "state": {
            "_model_module": "@jupyter-widgets/controls",
            "_model_module_version": "1.5.0",
            "_model_name": "ButtonStyleModel",
            "_view_count": null,
            "_view_module": "@jupyter-widgets/base",
            "_view_module_version": "1.2.0",
            "_view_name": "StyleView",
            "button_color": "white",
            "font_weight": ""
          }
        },
        "4c803b9a4fea4897952837a98e7791e3": {
          "model_module": "@jupyter-widgets/controls",
          "model_name": "ButtonStyleModel",
          "model_module_version": "1.5.0",
          "state": {
            "_model_module": "@jupyter-widgets/controls",
            "_model_module_version": "1.5.0",
            "_model_name": "ButtonStyleModel",
            "_view_count": null,
            "_view_module": "@jupyter-widgets/base",
            "_view_module_version": "1.2.0",
            "_view_name": "StyleView",
            "button_color": "white",
            "font_weight": ""
          }
        },
        "dac7ca3e06b246038778749892c2ee8e": {
          "model_module": "@jupyter-widgets/controls",
          "model_name": "ButtonStyleModel",
          "model_module_version": "1.5.0",
          "state": {
            "_model_module": "@jupyter-widgets/controls",
            "_model_module_version": "1.5.0",
            "_model_name": "ButtonStyleModel",
            "_view_count": null,
            "_view_module": "@jupyter-widgets/base",
            "_view_module_version": "1.2.0",
            "_view_name": "StyleView",
            "button_color": "white",
            "font_weight": ""
          }
        },
        "dab879ec2e5248b997789104b26525f1": {
          "model_module": "@jupyter-widgets/controls",
          "model_name": "ButtonStyleModel",
          "model_module_version": "1.5.0",
          "state": {
            "_model_module": "@jupyter-widgets/controls",
            "_model_module_version": "1.5.0",
            "_model_name": "ButtonStyleModel",
            "_view_count": null,
            "_view_module": "@jupyter-widgets/base",
            "_view_module_version": "1.2.0",
            "_view_name": "StyleView",
            "button_color": "white",
            "font_weight": ""
          }
        },
        "16bfb8dc27ca4b5289eec5d853423e1d": {
          "model_module": "@jupyter-widgets/controls",
          "model_name": "ButtonModel",
          "model_module_version": "1.5.0",
          "state": {
            "_dom_classes": [],
            "_model_module": "@jupyter-widgets/controls",
            "_model_module_version": "1.5.0",
            "_model_name": "ButtonModel",
            "_view_count": null,
            "_view_module": "@jupyter-widgets/controls",
            "_view_module_version": "1.5.0",
            "_view_name": "ButtonView",
            "button_style": "",
            "description": "Done with puzzle.",
            "disabled": false,
            "icon": "",
            "layout": "IPY_MODEL_becc8684f8554d16a67df0f86bbdae12",
            "style": "IPY_MODEL_12a35128f71d4f41b8c7b79c93225e20",
            "tooltip": ""
          }
        },
        "becc8684f8554d16a67df0f86bbdae12": {
          "model_module": "@jupyter-widgets/base",
          "model_name": "LayoutModel",
          "model_module_version": "1.2.0",
          "state": {
            "_model_module": "@jupyter-widgets/base",
            "_model_module_version": "1.2.0",
            "_model_name": "LayoutModel",
            "_view_count": null,
            "_view_module": "@jupyter-widgets/base",
            "_view_module_version": "1.2.0",
            "_view_name": "LayoutView",
            "align_content": null,
            "align_items": null,
            "align_self": null,
            "border": null,
            "bottom": null,
            "display": null,
            "flex": null,
            "flex_flow": null,
            "grid_area": null,
            "grid_auto_columns": null,
            "grid_auto_flow": null,
            "grid_auto_rows": null,
            "grid_column": null,
            "grid_gap": null,
            "grid_row": null,
            "grid_template_areas": null,
            "grid_template_columns": null,
            "grid_template_rows": null,
            "height": "50px",
            "justify_content": null,
            "justify_items": null,
            "left": null,
            "margin": null,
            "max_height": null,
            "max_width": null,
            "min_height": null,
            "min_width": null,
            "object_fit": null,
            "object_position": null,
            "order": null,
            "overflow": null,
            "overflow_x": null,
            "overflow_y": null,
            "padding": null,
            "right": null,
            "top": null,
            "visibility": null,
            "width": "auto"
          }
        },
        "12a35128f71d4f41b8c7b79c93225e20": {
          "model_module": "@jupyter-widgets/controls",
          "model_name": "ButtonStyleModel",
          "model_module_version": "1.5.0",
          "state": {
            "_model_module": "@jupyter-widgets/controls",
            "_model_module_version": "1.5.0",
            "_model_name": "ButtonStyleModel",
            "_view_count": null,
            "_view_module": "@jupyter-widgets/base",
            "_view_module_version": "1.2.0",
            "_view_name": "StyleView",
            "button_color": null,
            "font_weight": ""
          }
        }
      }
    }
  },
  "cells": [
    {
      "cell_type": "markdown",
      "metadata": {
        "id": "view-in-github",
        "colab_type": "text"
      },
      "source": [
        "<a href=\"https://colab.research.google.com/github/SumitraMukherjee/TwoNotTouch/blob/main/play_two_not_touch.ipynb\" target=\"_parent\"><img src=\"https://colab.research.google.com/assets/colab-badge.svg\" alt=\"Open In Colab\"/></a>"
      ]
    },
    {
      "cell_type": "markdown",
      "source": [
        "# Play Two-Not-Touch\n",
        "This notebook attempts to generate instances of the *Two-Not-Touch* puzzle (https://krazydad.com/twonottouch/) with unique solutions that are logic solvable. To play, choose the difficulty level of the puzzle (*Easy/Medium/Hard*) and generate a new puzzle. \n",
        "\n",
        "A puzzle is represented by a $10 \\times 10$ grid of cells partitioned into 10 regions (shown in 10 different colors). Place 20 stars in 20 of the 100 cells so that each row, column, and region contains exactly 2 stars. Further, stars cannot touch, even diagonally. \n",
        "\n",
        "Successive clicks on a cell allows you to cycle through the four symbols: \"★\", \"#\", \"?\", and \" \" (blank space). At the start of the game each cell is shown as a blank, denoting that its value is unknown. Marking a cell with \"★\" denotes that it contains a star. A cell may be marked with \"#\" to denote that it cannot contain a star. The symbol \"?\" may be used as a placeholder to aid the reasoning process.         "
      ],
      "metadata": {
        "id": "9UyH91f_LTKN"
      }
    },
    {
      "cell_type": "code",
      "execution_count": 3,
      "metadata": {
        "colab": {
          "base_uri": "https://localhost:8080/",
          "height": 540,
          "referenced_widgets": [
            "06251c547d81441096be7d475164348f",
            "f35e0b7f33ce44b5a95e52bc1fbe1af5",
            "837896e59f4d47ca97e71777e2f6f261",
            "427dcfd6035c4eccb4b2cd11e0691794",
            "5a6a0f1a804c47699cc67c378e21994e",
            "274e51a180324a62956aa1d5708d8fd7",
            "a4d59c5ab1b8494291a7e44d84e11f4e",
            "864de68f154e4748b67e9f6f2898a137",
            "19a9949397544201bc12373266429f0f",
            "be322f5d96794b6a956fe5a6d19d6095",
            "6a3ee52cb0004bc2be17b4508efd5ca0",
            "8e658d65071d4ebf94c9043e0564e943",
            "a328ed83e737424196d7c524fc9a173b",
            "f722e70141b14bb9889e3796b728e468",
            "274a833450e147f5958ed56503f908c6",
            "7361df5e20724c659bfd881f5f2c9cd0",
            "144ad3f1589640758dcb857bf86b4677",
            "1bacce85cba64a64978d5eccb24f45c9",
            "a91cfa55e00646b79990c53dd47093a9",
            "4de9e31d0eab498d892d17fadb230b8b",
            "13c145c09d324fce9c02114e67cddac3",
            "215d4cf42e334460a2bbda8c37a82a01",
            "25fa5538f0a9485a83420269538339ca",
            "839efe53ef6144ed8a525aabcd92c2f6",
            "0ff4651df7e847429dc3f28bd3a477fe",
            "e301b0eebf794d72aee1d28a0e3a7e47",
            "6b0ebbf0fc674bcba1428576c1e12994",
            "3f489ff9a61a41539a764f7e9c99883d",
            "9d7ec16daa5a41deb4e9e7f8a53143d7",
            "d4ab3e4b28c94c088f81a2d41eb8314e",
            "421fc24ad6dc4fba9f8f5e7b4145621d",
            "fed6c4bb4fce423992d31da28cccb40f",
            "26310d363c05466e94db8c23fbe86673",
            "4277d225225f46ebbc82d1a3947f9fd3",
            "dbe4c41b39ad4d478040bfd63e3e01cb",
            "99b02272cc984e83b3e7002019206455",
            "c62604352b304de595fb49a1d1d566f8",
            "0f2d7b336d234a86aa6d314756bdb12d",
            "ec3a139aaa994af69827a1da578eb9ce",
            "c7b9691b269448eda26801dfa5e27adb",
            "edfe36402bc8438091deaa8de5b6a13f",
            "dc760e356b724e76b2959b75a3789033",
            "d644816c4e7e4b02b193c3a22f237e9c",
            "d7f4a591470344f4a625ea342a593024",
            "4b52123f157a4fc080020bbd42cb0642",
            "6ad9b88fc9f24f529b3edfb1e13bdd22",
            "5041cb3405fb458aa7f63acf9cea1277",
            "93427ce7cff947c495435b798662cfb2",
            "4a406d82a47f47109916dd518caa06bb",
            "cbc83ab2ba254d6fa04f5e8f6f08d80c",
            "c6fd7f0392304f47866225a89432f45e",
            "f911ac427cb3494cb2e68739981c3c72",
            "abcd088b47214871ad5ebaa895c5075a",
            "f6808976ddc04605b1fd8c1a32911509",
            "8cb35aafd8db421ea96b07a3bfd4a60e",
            "639ed7f15d9b4f1bbbd0782ccf622ea0",
            "8f8112574cdf4198800d9cf7fafa94b2",
            "d8ab805d5cbf4b939255816664cb12f3",
            "fe3f3afc440c4af5b289f04954543b40",
            "8191a14b8e6d49eb9e977d4e9cf5cb05",
            "f9c015bfdcf24751b0606d36c6547829",
            "a3d480aa4e784ed2b24b2a2f96fdfa76",
            "50f2054419b24cd9807e7470dc0997c4",
            "85917d957271431cbdb19933d14b52c8",
            "2d3ec92dd91043c18e554520e67f00da",
            "c0d52470921b44c3ba2071386475f0f7",
            "73b3f804300b4cddb5f7e3255db560c0",
            "b81e837088d84a88a918a77603de6099",
            "a886c43997f3434ea968cdbc0e6170fa",
            "1859dfaba6a842cc9b8c4988f040fca8",
            "3cdfbd96aa3b46ac9c010f8de7286a9c",
            "92e206d9573247ad93eb05385ce01498",
            "5b58136187c84909b8e996113f84c259",
            "be246f6a0eda4d029fe45fb6536bdd0d",
            "e2b81d29cdac4acc9bcdc6058b2288cd",
            "6820df710bb84a828598ce380c738217",
            "6c05165f074f436d8155c0d14cc8162f",
            "0693479787b44738b089792f7612e780",
            "8368fd4e24aa447c8c042e2a9344ae43",
            "e00d88274c9b4678810b53770ec0033f",
            "0c58a377c15242ceb6c3bfb9a6b9a14a",
            "29199eed90fd4027982185345d33478d",
            "4377159028aa4c12a7c3f1970071ba36",
            "89fe8b92d84b4caf82c024a8f6a4b9f4",
            "7ac14fb23b1c48adba3293b6410a02c0",
            "6fa2d360fbe54d3abd900326497baa04",
            "07a73a0476904cf9a691f2aa8089bccb",
            "86b34e8fbfa74ed191b0618f99ab093f",
            "63139d2ea0b849ae8b49af8427e1f762",
            "11f13f0cc5274d759ba5c1f2d0d20863",
            "2a6e5d6a6c9449e99fdf28c628c95755",
            "5992da11c9d94a54a66defb601c21058",
            "89a52e8a4c2548b1b182adb6e48dcd10",
            "70412583555f49c58567954017f36799",
            "38de81441ec04733a8f4beb96c667830",
            "fe565c5f015247149a4c61473630f079",
            "5a6faced926f44709629063ba4e09375",
            "3dc4e371e91943d3a35daa5256e75a85",
            "09f101e93b3a43f2a98964f03c32a184",
            "4d086260e6b849a3af09957bdbf2df0b",
            "8efa98ec61044ebfbf908864baa097f2",
            "2f4863a6655d49f68586b3aab3dfbd3f",
            "c2bea8b0708448e78f091a49e45d65a1",
            "cfed8db3300e4d858a94dfaa4dac2b18",
            "d6bc94e081e04f75855177c15d64693a",
            "4817671092bc44aa8e9fec8cfcef8ed1",
            "ee27dd14c3e64666b51b7390ec9c832f",
            "042bab8bc938469aafeba721caff7fef",
            "4f0c3fe13b594e669e4be7560ac32c80",
            "6b61f795dd104ebe8f8e6d6f6abf50ad",
            "8a2db3de0bd048628c20f8d08236ce7b",
            "29e1117344e34697b57ba7d8415e3db0",
            "a78c1fd61c12403cb1320649681269ca",
            "807054b8fd5843b98d3df8fa4920497d",
            "85fece99d66a4ccd9a494e5eceffc3f4",
            "2f667c29fbde47118c5fc005f5894241",
            "159e654c50da432480f8d95f861123ce",
            "1fe4cd1452374f9a8cdf97b82cc2bc5c",
            "fd16836d7f0e4620b52fae1af62112f2",
            "3520f46212034acb865a9cb44c099273",
            "c747204eeefb4c1d9bbdede173775dbc",
            "bc5aa781d4b14325be7ac109225ea91f",
            "fd378c34d48647b0abdbc832f7a632ad",
            "751caf4ffa7c4b5bbfa1bbf78174f7ba",
            "37575f71dd784e618592ac7449262d9d",
            "65b648e882f246d5a0e2136b40e194fa",
            "6c55ff6793d04ca4a65c10702f0d8989",
            "a88aa795ca014a24beeb0b7c988f4982",
            "4ea3de7599e24417b9ca316c48a379a0",
            "d77e54c913f54bd88677a2893c67513b",
            "538afbcebbeb44f0a8ace40b10b9a4c8",
            "55fa270bf4bd4e2fa6d06e3ba0442be3",
            "90ce0e2f5c02494891d01055d84edbbc",
            "2bd2b7f08aee40848f14a74c2b98ad45",
            "94d45905e6734a1fad83954bbd6b373a",
            "de915e192e9b47f29d7f28fb8ca99d86",
            "013e564d5c824835bfb2047cf62aa6a0",
            "923c38be87af49ee95680cadaee90529",
            "2d95d0baa90b401da6963992dde62979",
            "6b3cb66a8369455288524cb5f68b0aaf",
            "af9e4d25eee140c1a13b5270201c77bb",
            "674b12f1b0ef4b5da03b0113814573c9",
            "2e52e607fdf149d59a617e72e30c6e56",
            "a3e182bda4f541e2820843a48a76e620",
            "7736749de3454d39a02a8f55b7b96545",
            "1c5ae68dd50442c88390ab5276aae9b9",
            "cccc8f52c58648ce98403aeb27f7a53f",
            "5907bc03482f42c28ae5a4ecc8dc0790",
            "5e54d58dbe804c98a352bd3dc7724970",
            "de3a573741984318beb740034e41c2e1",
            "6e961b5f16324f50a8c94ae13b5f11c2",
            "42fa4f39be6f4cca9f9a84676c312b45",
            "6cf5ac18a8514bb79038c96249bf8c79",
            "a5626f60c10d478395875e2a224fd573",
            "3a863912324448e98af145d516b627c4",
            "cf8dd8efcfe04576a2dd03ee9e6b598c",
            "7d318c9a5f2d47acb49e8de233f53e18",
            "5e4386b85f6b4e9fa4ef34d549c71ca8",
            "c991c32a68684ea79a11645bb4bcb5c5",
            "706aaf78853c499385bc7f48a66a0a5d",
            "c8d4930defb843f29f972fa8e2470567",
            "978090fb391e48b5a480e8b26e17fdcc",
            "75a613429e9b425aaff22cbcf900c806",
            "a9e0ae31682c438d90ec4c2ca2bffd7d",
            "b5cc81e0df5b4b53bfc93d2e3368aa73",
            "a291ee8d51224f5e883c5957dfe41c6c",
            "3525d1e09d6744b6a89135b5165e1c43",
            "6114180faef34febb40edf0d50c9b75b",
            "f6d15c14f6d447f4a847f6c1d3c69e91",
            "47f4a6fd47204a279af38b6f0ebdedf2",
            "6b1f789e2af845db868dbccce64c5e53",
            "f29f95e7df2148e2adbce70103e53b94",
            "7a195965777f49f5812ae6e07748a321",
            "4c9dc2ea07064eef9e739beede0da0d5",
            "196072731af342b6beb90cd2e3ebbc5e",
            "c42bdab318e74e0aa1da7eda70df5c76",
            "a069fb84607d47d39bce0f3cc0d0bfb5",
            "716d45430ed7426d85711961c52e90b0",
            "c19a8c2f83b641519e8c1891982b0faf",
            "d0abca28f72647a09e9869d96386a75f",
            "8c68dff131a8493c8bdbc93c0db6a4a7",
            "3834fe5e5eea4c20a00ddecc2054cf46",
            "116d10016dc94150a1a4ce942475c68a",
            "f92f71203a4942948390ff193445ba3a",
            "c7c63e877ba841cd993060caba7dcf90",
            "70eaacb1c6714f06acea8ea2775a5f7d",
            "ff270ab702974912bcfc02edee89e4db",
            "35abff344cd84ba79b65b4f9def0c6ef",
            "f2f8dcdfee2246419357fb741fc8eb79",
            "83c85dc6aade40458de597f5c1c1b7f7",
            "5d2d7a128d124f41a4041ec2a1a3383c",
            "db4c01c29bf746d7b2ad48603388eb8d",
            "7eacfb7490bf4bc4a319ba826696371a",
            "db14b1c2cb0a45308dfa43372309995d",
            "18d7cf3fb87e43b4959c3ad00a617ae9",
            "2031d747aab1418ca8ef57db21c48aea",
            "c7dcc59affda4013a4a357a30da7f9a2",
            "ed33468cc10b4c07a380d5c758c86025",
            "2b6750063a724e19a6986cc5deebc3b8",
            "fdf734189c37469ea7d64d2fa20945f1",
            "4c00c1f6beac46d88016a0b7462f2534",
            "d462138e0f4c4e42a01dbc5396c0d251",
            "889dc5be1d514460b4db14961aff4a4a",
            "6a13622a322c404d9ba0b9515714f62d",
            "767de842e9ae4b438d384ad62daa1add",
            "296ff3e8689e40c1a595ac5db12ad0de",
            "4c803b9a4fea4897952837a98e7791e3",
            "dac7ca3e06b246038778749892c2ee8e",
            "dab879ec2e5248b997789104b26525f1",
            "16bfb8dc27ca4b5289eec5d853423e1d",
            "becc8684f8554d16a67df0f86bbdae12",
            "12a35128f71d4f41b8c7b79c93225e20"
          ]
        },
        "id": "zoaf_sSsI_GB",
        "outputId": "2612849b-37da-4b60-e917-eadb2c03ead3"
      },
      "outputs": [
        {
          "output_type": "stream",
          "name": "stdout",
          "text": [
            "Choose difficulty level:\n"
          ]
        },
        {
          "output_type": "display_data",
          "data": {
            "text/plain": [
              "Dropdown(description='Level:', options=('Easy', 'Medium', 'Hard'), value='Easy')"
            ],
            "application/vnd.jupyter.widget-view+json": {
              "version_major": 2,
              "version_minor": 0,
              "model_id": "06251c547d81441096be7d475164348f"
            }
          },
          "metadata": {}
        },
        {
          "output_type": "stream",
          "name": "stdout",
          "text": [
            "Click the button below for a new puzzle (this maytake quite a few seconds).\n"
          ]
        },
        {
          "output_type": "display_data",
          "data": {
            "text/plain": [
              "Button(description='New puzzle.', layout=Layout(height='50px', width='auto'), style=ButtonStyle())"
            ],
            "application/vnd.jupyter.widget-view+json": {
              "version_major": 2,
              "version_minor": 0,
              "model_id": "427dcfd6035c4eccb4b2cd11e0691794"
            }
          },
          "metadata": {}
        },
        {
          "output_type": "display_data",
          "data": {
            "text/plain": [
              "GridBox(children=(Button(layout=Layout(border='1px solid', height='25px', width='100%'), style=ButtonStyle(but…"
            ],
            "application/vnd.jupyter.widget-view+json": {
              "version_major": 2,
              "version_minor": 0,
              "model_id": "a4d59c5ab1b8494291a7e44d84e11f4e"
            }
          },
          "metadata": {}
        },
        {
          "output_type": "stream",
          "name": "stdout",
          "text": [
            "Click on the button below when done:\n"
          ]
        },
        {
          "output_type": "display_data",
          "data": {
            "text/plain": [
              "Button(description='Done with puzzle.', layout=Layout(height='50px', width='auto'), style=ButtonStyle())"
            ],
            "application/vnd.jupyter.widget-view+json": {
              "version_major": 2,
              "version_minor": 0,
              "model_id": "16bfb8dc27ca4b5289eec5d853423e1d"
            }
          },
          "metadata": {}
        },
        {
          "output_type": "stream",
          "name": "stdout",
          "text": [
            "\n"
          ]
        }
      ],
      "source": [
        "import requests\n",
        "r = requests.get('https://raw.githubusercontent.com/SumitraMukherjee/TwoNotTouch/main/two_not_touch.py')\n",
        "with open('two_not_touch.py', 'w') as f: f.write(r.text)\n",
        "from two_not_touch import PlayTwoNotTouch\n",
        "\n",
        "PlayTwoNotTouch().launch()"
      ]
    }
  ]
}